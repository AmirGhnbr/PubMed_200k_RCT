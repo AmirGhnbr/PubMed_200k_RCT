{
  "nbformat": 4,
  "nbformat_minor": 0,
  "metadata": {
    "colab": {
      "provenance": [],
      "collapsed_sections": [
        "Ferfoc9QumPt",
        "710iHvItv4QN",
        "0coDw9CthP6j",
        "SzCuqMRumGYc",
        "Mvu7em7gljjX",
        "brPW_Y5XpIDJ",
        "vzR2-JGLcVPG",
        "NeI18ni6iBSo",
        "p5KsegX_leYJ",
        "a3CPXbc_wabK",
        "mCKZNBZxd9py",
        "Lg61cEMSCCDi",
        "XgaCNmpHNpPp",
        "44UaDnQ6Olhp",
        "b-kZ8l_3Ssfn"
      ],
      "mount_file_id": "1AOaW4Iye_ua78jD9eFOjiFeWoMnd_Owa",
      "authorship_tag": "ABX9TyP3GxEwYP3GwvSNGzunM3jg",
      "include_colab_link": true
    },
    "kernelspec": {
      "name": "python3",
      "display_name": "Python 3"
    },
    "language_info": {
      "name": "python"
    },
    "accelerator": "GPU"
  },
  "cells": [
    {
      "cell_type": "markdown",
      "metadata": {
        "id": "view-in-github",
        "colab_type": "text"
      },
      "source": [
        "<a href=\"https://colab.research.google.com/github/AmirGhnbr/PubMed_200k_RCT/blob/dev_branch/PubMed_200k_RCT.ipynb\" target=\"_parent\"><img src=\"https://colab.research.google.com/assets/colab-badge.svg\" alt=\"Open In Colab\"/></a>"
      ]
    },
    {
      "cell_type": "markdown",
      "source": [
        "# Pubmed RTC 200k"
      ],
      "metadata": {
        "id": "5S9gqE12ogPR"
      }
    },
    {
      "cell_type": "markdown",
      "source": [
        "Using Pubmed RTC 200K we are aiming for train the NN for to distinguish the abstract of each paper. \n",
        "\n",
        "The dataset is coming from [PubMed 200k RCT](https://arxiv.org/pdf/1710.06071.pdf) paper. \n",
        "\n",
        "we will use the NN architecture described in [Neural Networks for Joint Sentence Classification in Medical Paper Abstracts](https://arxiv.org/pdf/1612.05251.pdf) paper.\n",
        "\n",
        "PubMed is a free search engine accessing primarily the MEDLINE database of references and abstracts on life sciences and biomedical topics. The United States National Library of Medicine (NLM) at the National Institutes of Health maintain the database as part of the Entrez system of information retrieval.\n",
        "\n"
      ],
      "metadata": {
        "id": "4tKBSkCO4cB7"
      }
    },
    {
      "cell_type": "code",
      "source": [
        "## Set up GPU\n",
        "!nvidia-smi"
      ],
      "metadata": {
        "colab": {
          "base_uri": "https://localhost:8080/"
        },
        "id": "P8ecvlysqMzM",
        "outputId": "d9f6af5b-4010-49d3-92bb-62f04ec4c1a1"
      },
      "execution_count": 1,
      "outputs": [
        {
          "output_type": "stream",
          "name": "stdout",
          "text": [
            "Sat Nov 26 16:56:49 2022       \n",
            "+-----------------------------------------------------------------------------+\n",
            "| NVIDIA-SMI 460.32.03    Driver Version: 460.32.03    CUDA Version: 11.2     |\n",
            "|-------------------------------+----------------------+----------------------+\n",
            "| GPU  Name        Persistence-M| Bus-Id        Disp.A | Volatile Uncorr. ECC |\n",
            "| Fan  Temp  Perf  Pwr:Usage/Cap|         Memory-Usage | GPU-Util  Compute M. |\n",
            "|                               |                      |               MIG M. |\n",
            "|===============================+======================+======================|\n",
            "|   0  Tesla T4            Off  | 00000000:00:04.0 Off |                    0 |\n",
            "| N/A   50C    P8     9W /  70W |      0MiB / 15109MiB |      0%      Default |\n",
            "|                               |                      |                  N/A |\n",
            "+-------------------------------+----------------------+----------------------+\n",
            "                                                                               \n",
            "+-----------------------------------------------------------------------------+\n",
            "| Processes:                                                                  |\n",
            "|  GPU   GI   CI        PID   Type   Process name                  GPU Memory |\n",
            "|        ID   ID                                                   Usage      |\n",
            "|=============================================================================|\n",
            "|  No running processes found                                                 |\n",
            "+-----------------------------------------------------------------------------+\n"
          ]
        }
      ]
    },
    {
      "cell_type": "markdown",
      "source": [
        "## Donwload the dataset"
      ],
      "metadata": {
        "id": "Ferfoc9QumPt"
      }
    },
    {
      "cell_type": "markdown",
      "source": [
        "### In a phenomenal act of kindness, the authors of the paper have made the data they used for their research availably publically and for free in the form of .txt files on [GitHub](https://github.com/Franck-Dernoncourt/pubmed-rct)."
      ],
      "metadata": {
        "id": "_TvWhRCqu2UW"
      }
    },
    {
      "cell_type": "code",
      "source": [
        "!git clone https://github.com/Franck-Dernoncourt/pubmed-rct.git\n",
        "!ls pubmed-rct"
      ],
      "metadata": {
        "colab": {
          "base_uri": "https://localhost:8080/"
        },
        "id": "jGdWoJxHvCOZ",
        "outputId": "acbbcb62-c424-4adf-92c3-9ea297f16e49"
      },
      "execution_count": 2,
      "outputs": [
        {
          "output_type": "stream",
          "name": "stdout",
          "text": [
            "Cloning into 'pubmed-rct'...\n",
            "remote: Enumerating objects: 33, done.\u001b[K\n",
            "remote: Counting objects: 100% (8/8), done.\u001b[K\n",
            "remote: Compressing objects: 100% (3/3), done.\u001b[K\n",
            "remote: Total 33 (delta 5), reused 5 (delta 5), pack-reused 25\u001b[K\n",
            "Unpacking objects: 100% (33/33), done.\n",
            "PubMed_200k_RCT\n",
            "PubMed_200k_RCT_numbers_replaced_with_at_sign\n",
            "PubMed_20k_RCT\n",
            "PubMed_20k_RCT_numbers_replaced_with_at_sign\n",
            "README.md\n"
          ]
        }
      ]
    },
    {
      "cell_type": "code",
      "source": [
        "# Check what files are in the PubMed_20K dataset \n",
        "!ls pubmed-rct/PubMed_20k_RCT_numbers_replaced_with_at_sign"
      ],
      "metadata": {
        "colab": {
          "base_uri": "https://localhost:8080/"
        },
        "id": "aRgfoMWLvJ2V",
        "outputId": "82044b8e-02a3-4df2-ad7b-d94c6b30df2d"
      },
      "execution_count": 3,
      "outputs": [
        {
          "output_type": "stream",
          "name": "stdout",
          "text": [
            "dev.txt  test.txt  train.txt\n"
          ]
        }
      ]
    },
    {
      "cell_type": "code",
      "source": [
        "data_dir = \"pubmed-rct/PubMed_20k_RCT_numbers_replaced_with_at_sign/\""
      ],
      "metadata": {
        "id": "ApnkbJtevbut"
      },
      "execution_count": 4,
      "outputs": []
    },
    {
      "cell_type": "code",
      "source": [
        "import os\n",
        "filenames = [data_dir + filename for filename in os.listdir(data_dir)]\n",
        "filenames"
      ],
      "metadata": {
        "colab": {
          "base_uri": "https://localhost:8080/"
        },
        "id": "qLE9G2tCvqcn",
        "outputId": "c7f5ca09-aaad-4d12-f4e8-422a9893f1d1"
      },
      "execution_count": 5,
      "outputs": [
        {
          "output_type": "execute_result",
          "data": {
            "text/plain": [
              "['pubmed-rct/PubMed_20k_RCT_numbers_replaced_with_at_sign/test.txt',\n",
              " 'pubmed-rct/PubMed_20k_RCT_numbers_replaced_with_at_sign/dev.txt',\n",
              " 'pubmed-rct/PubMed_20k_RCT_numbers_replaced_with_at_sign/train.txt']"
            ]
          },
          "metadata": {},
          "execution_count": 5
        }
      ]
    },
    {
      "cell_type": "markdown",
      "source": [
        "## Preprocess data"
      ],
      "metadata": {
        "id": "710iHvItv4QN"
      }
    },
    {
      "cell_type": "code",
      "source": [
        "def get_lines(filepath):\n",
        "  \"\"\"\n",
        "  open and return the files\n",
        "  \"\"\"\n",
        "  with open(filepath,\"r\") as f:\n",
        "    return f.readlines()"
      ],
      "metadata": {
        "id": "j4B7A2xnUIAm"
      },
      "execution_count": 6,
      "outputs": []
    },
    {
      "cell_type": "code",
      "source": [
        "train_lines = get_lines(data_dir + \"train.txt\")\n",
        "train_lines[:16]"
      ],
      "metadata": {
        "colab": {
          "base_uri": "https://localhost:8080/"
        },
        "id": "k2ENOH8UUfDR",
        "outputId": "99297778-5ceb-4fb3-b740-504c6eac577b"
      },
      "execution_count": 7,
      "outputs": [
        {
          "output_type": "execute_result",
          "data": {
            "text/plain": [
              "['###24293578\\n',\n",
              " 'OBJECTIVE\\tTo investigate the efficacy of @ weeks of daily low-dose oral prednisolone in improving pain , mobility , and systemic low-grade inflammation in the short term and whether the effect would be sustained at @ weeks in older adults with moderate to severe knee osteoarthritis ( OA ) .\\n',\n",
              " 'METHODS\\tA total of @ patients with primary knee OA were randomized @:@ ; @ received @ mg/day of prednisolone and @ received placebo for @ weeks .\\n',\n",
              " 'METHODS\\tOutcome measures included pain reduction and improvement in function scores and systemic inflammation markers .\\n',\n",
              " 'METHODS\\tPain was assessed using the visual analog pain scale ( @-@ mm ) .\\n',\n",
              " 'METHODS\\tSecondary outcome measures included the Western Ontario and McMaster Universities Osteoarthritis Index scores , patient global assessment ( PGA ) of the severity of knee OA , and @-min walk distance ( @MWD ) .\\n',\n",
              " 'METHODS\\tSerum levels of interleukin @ ( IL-@ ) , IL-@ , tumor necrosis factor ( TNF ) - , and high-sensitivity C-reactive protein ( hsCRP ) were measured .\\n',\n",
              " 'RESULTS\\tThere was a clinically relevant reduction in the intervention group compared to the placebo group for knee pain , physical function , PGA , and @MWD at @ weeks .\\n',\n",
              " 'RESULTS\\tThe mean difference between treatment arms ( @ % CI ) was @ ( @-@ @ ) , p < @ ; @ ( @-@ @ ) , p < @ ; @ ( @-@ @ ) , p < @ ; and @ ( @-@ @ ) , p < @ , respectively .\\n',\n",
              " 'RESULTS\\tFurther , there was a clinically relevant reduction in the serum levels of IL-@ , IL-@ , TNF - , and hsCRP at @ weeks in the intervention group when compared to the placebo group .\\n',\n",
              " 'RESULTS\\tThese differences remained significant at @ weeks .\\n',\n",
              " 'RESULTS\\tThe Outcome Measures in Rheumatology Clinical Trials-Osteoarthritis Research Society International responder rate was @ % in the intervention group and @ % in the placebo group ( p < @ ) .\\n',\n",
              " 'CONCLUSIONS\\tLow-dose oral prednisolone had both a short-term and a longer sustained effect resulting in less knee pain , better physical function , and attenuation of systemic inflammation in older patients with knee OA ( ClinicalTrials.gov identifier NCT@ ) .\\n',\n",
              " '\\n',\n",
              " '###24854809\\n',\n",
              " 'BACKGROUND\\tEmotional eating is associated with overeating and the development of obesity .\\n']"
            ]
          },
          "metadata": {},
          "execution_count": 7
        }
      ]
    },
    {
      "cell_type": "code",
      "source": [
        "def preprocess_with_line_numbers(filepath):\n",
        "  \"\"\"\n",
        "  Takes in filename, reads its contents and sorts through each line,\n",
        "  extracting things like the target label, the text of the sentence,\n",
        "  how many sentences are in the current abstract and what sentence number\n",
        "  the target line is.\n",
        "\n",
        "  Args: \n",
        "  \n",
        "  filename: a string of the target path\n",
        "  \"\"\"\n",
        "  input_lines = get_lines(filepath)\n",
        "  abstract_lines = \"\"\n",
        "  abstract_samples = []\n",
        "\n",
        "  for line in input_lines:\n",
        "    if line.startswith(\"###\") :\n",
        "      abstract_id = line\n",
        "      abstract_lines = \"\"\n",
        "    elif line.isspace(): # check to see if its new line\n",
        "      abstract_line_split = abstract_lines.splitlines() \n",
        "\n",
        "      for abstract_line_number, abstract_line in enumerate(abstract_line_split):\n",
        "        line_data = {}\n",
        "        target_text_split = abstract_line.split(\"\\t\")\n",
        "        line_data[\"target\"] = target_text_split[0]\n",
        "        line_data[\"text\"] = target_text_split[1].lower()\n",
        "        line_data[\"line_number\"] = abstract_line_number \n",
        "        line_data[\"total_lines\"] = len(abstract_line_split) - 1\n",
        "        abstract_samples.append(line_data)\n",
        "\n",
        "    else:\n",
        "      abstract_lines += line\n",
        "\n",
        "  return abstract_samples"
      ],
      "metadata": {
        "id": "XnWGgOfyUuXy"
      },
      "execution_count": 8,
      "outputs": []
    },
    {
      "cell_type": "code",
      "source": [
        "%%time\n",
        "train_samples = preprocess_with_line_numbers(data_dir+\"train.txt\")\n",
        "val_samples = preprocess_with_line_numbers(data_dir+\"dev.txt\")\n",
        "test_samples = preprocess_with_line_numbers(data_dir + \"test.txt\")\n",
        "len(train_samples), len(val_samples), len(test_samples)"
      ],
      "metadata": {
        "colab": {
          "base_uri": "https://localhost:8080/"
        },
        "id": "6xr9Ny5oa9FT",
        "outputId": "4e6442b0-1810-4a02-ab79-7160d021362b"
      },
      "execution_count": 9,
      "outputs": [
        {
          "output_type": "stream",
          "name": "stdout",
          "text": [
            "CPU times: user 481 ms, sys: 68.6 ms, total: 550 ms\n",
            "Wall time: 557 ms\n"
          ]
        },
        {
          "output_type": "execute_result",
          "data": {
            "text/plain": [
              "(180040, 30212, 30135)"
            ]
          },
          "metadata": {},
          "execution_count": 9
        }
      ]
    },
    {
      "cell_type": "code",
      "source": [
        "train_samples[:14]"
      ],
      "metadata": {
        "id": "uERGCF0cbwnU",
        "colab": {
          "base_uri": "https://localhost:8080/"
        },
        "outputId": "9758856f-8a37-4523-eb5f-ffbd19fefe9b"
      },
      "execution_count": 10,
      "outputs": [
        {
          "output_type": "execute_result",
          "data": {
            "text/plain": [
              "[{'target': 'OBJECTIVE',\n",
              "  'text': 'to investigate the efficacy of @ weeks of daily low-dose oral prednisolone in improving pain , mobility , and systemic low-grade inflammation in the short term and whether the effect would be sustained at @ weeks in older adults with moderate to severe knee osteoarthritis ( oa ) .',\n",
              "  'line_number': 0,\n",
              "  'total_lines': 11},\n",
              " {'target': 'METHODS',\n",
              "  'text': 'a total of @ patients with primary knee oa were randomized @:@ ; @ received @ mg/day of prednisolone and @ received placebo for @ weeks .',\n",
              "  'line_number': 1,\n",
              "  'total_lines': 11},\n",
              " {'target': 'METHODS',\n",
              "  'text': 'outcome measures included pain reduction and improvement in function scores and systemic inflammation markers .',\n",
              "  'line_number': 2,\n",
              "  'total_lines': 11},\n",
              " {'target': 'METHODS',\n",
              "  'text': 'pain was assessed using the visual analog pain scale ( @-@ mm ) .',\n",
              "  'line_number': 3,\n",
              "  'total_lines': 11},\n",
              " {'target': 'METHODS',\n",
              "  'text': 'secondary outcome measures included the western ontario and mcmaster universities osteoarthritis index scores , patient global assessment ( pga ) of the severity of knee oa , and @-min walk distance ( @mwd ) .',\n",
              "  'line_number': 4,\n",
              "  'total_lines': 11},\n",
              " {'target': 'METHODS',\n",
              "  'text': 'serum levels of interleukin @ ( il-@ ) , il-@ , tumor necrosis factor ( tnf ) - , and high-sensitivity c-reactive protein ( hscrp ) were measured .',\n",
              "  'line_number': 5,\n",
              "  'total_lines': 11},\n",
              " {'target': 'RESULTS',\n",
              "  'text': 'there was a clinically relevant reduction in the intervention group compared to the placebo group for knee pain , physical function , pga , and @mwd at @ weeks .',\n",
              "  'line_number': 6,\n",
              "  'total_lines': 11},\n",
              " {'target': 'RESULTS',\n",
              "  'text': 'the mean difference between treatment arms ( @ % ci ) was @ ( @-@ @ ) , p < @ ; @ ( @-@ @ ) , p < @ ; @ ( @-@ @ ) , p < @ ; and @ ( @-@ @ ) , p < @ , respectively .',\n",
              "  'line_number': 7,\n",
              "  'total_lines': 11},\n",
              " {'target': 'RESULTS',\n",
              "  'text': 'further , there was a clinically relevant reduction in the serum levels of il-@ , il-@ , tnf - , and hscrp at @ weeks in the intervention group when compared to the placebo group .',\n",
              "  'line_number': 8,\n",
              "  'total_lines': 11},\n",
              " {'target': 'RESULTS',\n",
              "  'text': 'these differences remained significant at @ weeks .',\n",
              "  'line_number': 9,\n",
              "  'total_lines': 11},\n",
              " {'target': 'RESULTS',\n",
              "  'text': 'the outcome measures in rheumatology clinical trials-osteoarthritis research society international responder rate was @ % in the intervention group and @ % in the placebo group ( p < @ ) .',\n",
              "  'line_number': 10,\n",
              "  'total_lines': 11},\n",
              " {'target': 'CONCLUSIONS',\n",
              "  'text': 'low-dose oral prednisolone had both a short-term and a longer sustained effect resulting in less knee pain , better physical function , and attenuation of systemic inflammation in older patients with knee oa ( clinicaltrials.gov identifier nct@ ) .',\n",
              "  'line_number': 11,\n",
              "  'total_lines': 11},\n",
              " {'target': 'BACKGROUND',\n",
              "  'text': 'emotional eating is associated with overeating and the development of obesity .',\n",
              "  'line_number': 0,\n",
              "  'total_lines': 10},\n",
              " {'target': 'BACKGROUND',\n",
              "  'text': 'yet , empirical evidence for individual ( trait ) differences in emotional eating and cognitive mechanisms that contribute to eating during sad mood remain equivocal .',\n",
              "  'line_number': 1,\n",
              "  'total_lines': 10}]"
            ]
          },
          "metadata": {},
          "execution_count": 10
        }
      ]
    },
    {
      "cell_type": "markdown",
      "source": [
        "## Lets turn ductionaries into dataframe"
      ],
      "metadata": {
        "id": "0coDw9CthP6j"
      }
    },
    {
      "cell_type": "code",
      "source": [
        "import pandas as pd\n",
        "train_df = pd.DataFrame(train_samples)\n",
        "val_df = pd.DataFrame(val_samples)\n",
        "test_df = pd.DataFrame(test_samples)\n",
        "train_df.head(16)"
      ],
      "metadata": {
        "colab": {
          "base_uri": "https://localhost:8080/",
          "height": 1000
        },
        "id": "LzG9_tO_hkHF",
        "outputId": "8a2adda0-bbd4-4ca7-a69d-289d34f4c8f2"
      },
      "execution_count": 11,
      "outputs": [
        {
          "output_type": "execute_result",
          "data": {
            "text/plain": [
              "         target                                               text  \\\n",
              "0     OBJECTIVE  to investigate the efficacy of @ weeks of dail...   \n",
              "1       METHODS  a total of @ patients with primary knee oa wer...   \n",
              "2       METHODS  outcome measures included pain reduction and i...   \n",
              "3       METHODS  pain was assessed using the visual analog pain...   \n",
              "4       METHODS  secondary outcome measures included the wester...   \n",
              "5       METHODS  serum levels of interleukin @ ( il-@ ) , il-@ ...   \n",
              "6       RESULTS  there was a clinically relevant reduction in t...   \n",
              "7       RESULTS  the mean difference between treatment arms ( @...   \n",
              "8       RESULTS  further , there was a clinically relevant redu...   \n",
              "9       RESULTS  these differences remained significant at @ we...   \n",
              "10      RESULTS  the outcome measures in rheumatology clinical ...   \n",
              "11  CONCLUSIONS  low-dose oral prednisolone had both a short-te...   \n",
              "12   BACKGROUND  emotional eating is associated with overeating...   \n",
              "13   BACKGROUND  yet , empirical evidence for individual ( trai...   \n",
              "14    OBJECTIVE  the aim of this study was to test if attention...   \n",
              "15    OBJECTIVE  it was expected that emotional eating is predi...   \n",
              "\n",
              "    line_number  total_lines  \n",
              "0             0           11  \n",
              "1             1           11  \n",
              "2             2           11  \n",
              "3             3           11  \n",
              "4             4           11  \n",
              "5             5           11  \n",
              "6             6           11  \n",
              "7             7           11  \n",
              "8             8           11  \n",
              "9             9           11  \n",
              "10           10           11  \n",
              "11           11           11  \n",
              "12            0           10  \n",
              "13            1           10  \n",
              "14            2           10  \n",
              "15            3           10  "
            ],
            "text/html": [
              "\n",
              "  <div id=\"df-1d9fac1f-dd19-4858-8747-ad0f7892f6a6\">\n",
              "    <div class=\"colab-df-container\">\n",
              "      <div>\n",
              "<style scoped>\n",
              "    .dataframe tbody tr th:only-of-type {\n",
              "        vertical-align: middle;\n",
              "    }\n",
              "\n",
              "    .dataframe tbody tr th {\n",
              "        vertical-align: top;\n",
              "    }\n",
              "\n",
              "    .dataframe thead th {\n",
              "        text-align: right;\n",
              "    }\n",
              "</style>\n",
              "<table border=\"1\" class=\"dataframe\">\n",
              "  <thead>\n",
              "    <tr style=\"text-align: right;\">\n",
              "      <th></th>\n",
              "      <th>target</th>\n",
              "      <th>text</th>\n",
              "      <th>line_number</th>\n",
              "      <th>total_lines</th>\n",
              "    </tr>\n",
              "  </thead>\n",
              "  <tbody>\n",
              "    <tr>\n",
              "      <th>0</th>\n",
              "      <td>OBJECTIVE</td>\n",
              "      <td>to investigate the efficacy of @ weeks of dail...</td>\n",
              "      <td>0</td>\n",
              "      <td>11</td>\n",
              "    </tr>\n",
              "    <tr>\n",
              "      <th>1</th>\n",
              "      <td>METHODS</td>\n",
              "      <td>a total of @ patients with primary knee oa wer...</td>\n",
              "      <td>1</td>\n",
              "      <td>11</td>\n",
              "    </tr>\n",
              "    <tr>\n",
              "      <th>2</th>\n",
              "      <td>METHODS</td>\n",
              "      <td>outcome measures included pain reduction and i...</td>\n",
              "      <td>2</td>\n",
              "      <td>11</td>\n",
              "    </tr>\n",
              "    <tr>\n",
              "      <th>3</th>\n",
              "      <td>METHODS</td>\n",
              "      <td>pain was assessed using the visual analog pain...</td>\n",
              "      <td>3</td>\n",
              "      <td>11</td>\n",
              "    </tr>\n",
              "    <tr>\n",
              "      <th>4</th>\n",
              "      <td>METHODS</td>\n",
              "      <td>secondary outcome measures included the wester...</td>\n",
              "      <td>4</td>\n",
              "      <td>11</td>\n",
              "    </tr>\n",
              "    <tr>\n",
              "      <th>5</th>\n",
              "      <td>METHODS</td>\n",
              "      <td>serum levels of interleukin @ ( il-@ ) , il-@ ...</td>\n",
              "      <td>5</td>\n",
              "      <td>11</td>\n",
              "    </tr>\n",
              "    <tr>\n",
              "      <th>6</th>\n",
              "      <td>RESULTS</td>\n",
              "      <td>there was a clinically relevant reduction in t...</td>\n",
              "      <td>6</td>\n",
              "      <td>11</td>\n",
              "    </tr>\n",
              "    <tr>\n",
              "      <th>7</th>\n",
              "      <td>RESULTS</td>\n",
              "      <td>the mean difference between treatment arms ( @...</td>\n",
              "      <td>7</td>\n",
              "      <td>11</td>\n",
              "    </tr>\n",
              "    <tr>\n",
              "      <th>8</th>\n",
              "      <td>RESULTS</td>\n",
              "      <td>further , there was a clinically relevant redu...</td>\n",
              "      <td>8</td>\n",
              "      <td>11</td>\n",
              "    </tr>\n",
              "    <tr>\n",
              "      <th>9</th>\n",
              "      <td>RESULTS</td>\n",
              "      <td>these differences remained significant at @ we...</td>\n",
              "      <td>9</td>\n",
              "      <td>11</td>\n",
              "    </tr>\n",
              "    <tr>\n",
              "      <th>10</th>\n",
              "      <td>RESULTS</td>\n",
              "      <td>the outcome measures in rheumatology clinical ...</td>\n",
              "      <td>10</td>\n",
              "      <td>11</td>\n",
              "    </tr>\n",
              "    <tr>\n",
              "      <th>11</th>\n",
              "      <td>CONCLUSIONS</td>\n",
              "      <td>low-dose oral prednisolone had both a short-te...</td>\n",
              "      <td>11</td>\n",
              "      <td>11</td>\n",
              "    </tr>\n",
              "    <tr>\n",
              "      <th>12</th>\n",
              "      <td>BACKGROUND</td>\n",
              "      <td>emotional eating is associated with overeating...</td>\n",
              "      <td>0</td>\n",
              "      <td>10</td>\n",
              "    </tr>\n",
              "    <tr>\n",
              "      <th>13</th>\n",
              "      <td>BACKGROUND</td>\n",
              "      <td>yet , empirical evidence for individual ( trai...</td>\n",
              "      <td>1</td>\n",
              "      <td>10</td>\n",
              "    </tr>\n",
              "    <tr>\n",
              "      <th>14</th>\n",
              "      <td>OBJECTIVE</td>\n",
              "      <td>the aim of this study was to test if attention...</td>\n",
              "      <td>2</td>\n",
              "      <td>10</td>\n",
              "    </tr>\n",
              "    <tr>\n",
              "      <th>15</th>\n",
              "      <td>OBJECTIVE</td>\n",
              "      <td>it was expected that emotional eating is predi...</td>\n",
              "      <td>3</td>\n",
              "      <td>10</td>\n",
              "    </tr>\n",
              "  </tbody>\n",
              "</table>\n",
              "</div>\n",
              "      <button class=\"colab-df-convert\" onclick=\"convertToInteractive('df-1d9fac1f-dd19-4858-8747-ad0f7892f6a6')\"\n",
              "              title=\"Convert this dataframe to an interactive table.\"\n",
              "              style=\"display:none;\">\n",
              "        \n",
              "  <svg xmlns=\"http://www.w3.org/2000/svg\" height=\"24px\"viewBox=\"0 0 24 24\"\n",
              "       width=\"24px\">\n",
              "    <path d=\"M0 0h24v24H0V0z\" fill=\"none\"/>\n",
              "    <path d=\"M18.56 5.44l.94 2.06.94-2.06 2.06-.94-2.06-.94-.94-2.06-.94 2.06-2.06.94zm-11 1L8.5 8.5l.94-2.06 2.06-.94-2.06-.94L8.5 2.5l-.94 2.06-2.06.94zm10 10l.94 2.06.94-2.06 2.06-.94-2.06-.94-.94-2.06-.94 2.06-2.06.94z\"/><path d=\"M17.41 7.96l-1.37-1.37c-.4-.4-.92-.59-1.43-.59-.52 0-1.04.2-1.43.59L10.3 9.45l-7.72 7.72c-.78.78-.78 2.05 0 2.83L4 21.41c.39.39.9.59 1.41.59.51 0 1.02-.2 1.41-.59l7.78-7.78 2.81-2.81c.8-.78.8-2.07 0-2.86zM5.41 20L4 18.59l7.72-7.72 1.47 1.35L5.41 20z\"/>\n",
              "  </svg>\n",
              "      </button>\n",
              "      \n",
              "  <style>\n",
              "    .colab-df-container {\n",
              "      display:flex;\n",
              "      flex-wrap:wrap;\n",
              "      gap: 12px;\n",
              "    }\n",
              "\n",
              "    .colab-df-convert {\n",
              "      background-color: #E8F0FE;\n",
              "      border: none;\n",
              "      border-radius: 50%;\n",
              "      cursor: pointer;\n",
              "      display: none;\n",
              "      fill: #1967D2;\n",
              "      height: 32px;\n",
              "      padding: 0 0 0 0;\n",
              "      width: 32px;\n",
              "    }\n",
              "\n",
              "    .colab-df-convert:hover {\n",
              "      background-color: #E2EBFA;\n",
              "      box-shadow: 0px 1px 2px rgba(60, 64, 67, 0.3), 0px 1px 3px 1px rgba(60, 64, 67, 0.15);\n",
              "      fill: #174EA6;\n",
              "    }\n",
              "\n",
              "    [theme=dark] .colab-df-convert {\n",
              "      background-color: #3B4455;\n",
              "      fill: #D2E3FC;\n",
              "    }\n",
              "\n",
              "    [theme=dark] .colab-df-convert:hover {\n",
              "      background-color: #434B5C;\n",
              "      box-shadow: 0px 1px 3px 1px rgba(0, 0, 0, 0.15);\n",
              "      filter: drop-shadow(0px 1px 2px rgba(0, 0, 0, 0.3));\n",
              "      fill: #FFFFFF;\n",
              "    }\n",
              "  </style>\n",
              "\n",
              "      <script>\n",
              "        const buttonEl =\n",
              "          document.querySelector('#df-1d9fac1f-dd19-4858-8747-ad0f7892f6a6 button.colab-df-convert');\n",
              "        buttonEl.style.display =\n",
              "          google.colab.kernel.accessAllowed ? 'block' : 'none';\n",
              "\n",
              "        async function convertToInteractive(key) {\n",
              "          const element = document.querySelector('#df-1d9fac1f-dd19-4858-8747-ad0f7892f6a6');\n",
              "          const dataTable =\n",
              "            await google.colab.kernel.invokeFunction('convertToInteractive',\n",
              "                                                     [key], {});\n",
              "          if (!dataTable) return;\n",
              "\n",
              "          const docLinkHtml = 'Like what you see? Visit the ' +\n",
              "            '<a target=\"_blank\" href=https://colab.research.google.com/notebooks/data_table.ipynb>data table notebook</a>'\n",
              "            + ' to learn more about interactive tables.';\n",
              "          element.innerHTML = '';\n",
              "          dataTable['output_type'] = 'display_data';\n",
              "          await google.colab.output.renderOutput(dataTable, element);\n",
              "          const docLink = document.createElement('div');\n",
              "          docLink.innerHTML = docLinkHtml;\n",
              "          element.appendChild(docLink);\n",
              "        }\n",
              "      </script>\n",
              "    </div>\n",
              "  </div>\n",
              "  "
            ]
          },
          "metadata": {},
          "execution_count": 11
        }
      ]
    },
    {
      "cell_type": "code",
      "source": [
        "train_df[\"target\"].value_counts()"
      ],
      "metadata": {
        "colab": {
          "base_uri": "https://localhost:8080/"
        },
        "id": "v7iTZH1xh41Y",
        "outputId": "f6acd25c-70b2-4d87-ba87-36ad69c2b67c"
      },
      "execution_count": 12,
      "outputs": [
        {
          "output_type": "execute_result",
          "data": {
            "text/plain": [
              "METHODS        59353\n",
              "RESULTS        57953\n",
              "CONCLUSIONS    27168\n",
              "BACKGROUND     21727\n",
              "OBJECTIVE      13839\n",
              "Name: target, dtype: int64"
            ]
          },
          "metadata": {},
          "execution_count": 12
        }
      ]
    },
    {
      "cell_type": "code",
      "source": [
        "train_df[\"total_lines\"].plot.hist();"
      ],
      "metadata": {
        "colab": {
          "base_uri": "https://localhost:8080/",
          "height": 54
        },
        "id": "BQ4q6QPPiJmy",
        "outputId": "9f4dd5cf-f8bd-4b68-91d9-1b620e9f5438"
      },
      "execution_count": 13,
      "outputs": [
        {
          "output_type": "display_data",
          "data": {
            "text/plain": [
              "<Figure size 432x288 with 1 Axes>"
            ],
            "image/png": "[encoded data removed]"
          },
          "metadata": {
            "needs_background": "light"
          }
        }
      ]
    },
    {
      "cell_type": "markdown",
      "source": [
        "looks like majority of abstracts are around 7-15 lenght"
      ],
      "metadata": {
        "id": "OmraCPoQidyt"
      }
    },
    {
      "cell_type": "markdown",
      "source": [
        "## get list of sentences"
      ],
      "metadata": {
        "id": "SzCuqMRumGYc"
      }
    },
    {
      "cell_type": "markdown",
      "source": [
        "When we build our deep learning model, one of its main inputs will be a list of strings (the lines of an abstract)."
      ],
      "metadata": {
        "id": "qbr14mI4mKCa"
      }
    },
    {
      "cell_type": "code",
      "source": [
        "train_sentences = train_df[\"text\"].tolist()\n",
        "val_sentences = val_df[\"text\"].tolist()\n",
        "test_sentences = test_df[\"text\"].tolist()\n",
        "train_sentences[:10]"
      ],
      "metadata": {
        "colab": {
          "base_uri": "https://localhost:8080/"
        },
        "id": "wiSdwr-qjLv4",
        "outputId": "55413c63-cd9a-4a7d-8227-dcfb65176c80"
      },
      "execution_count": 14,
      "outputs": [
        {
          "output_type": "execute_result",
          "data": {
            "text/plain": [
              "['to investigate the efficacy of @ weeks of daily low-dose oral prednisolone in improving pain , mobility , and systemic low-grade inflammation in the short term and whether the effect would be sustained at @ weeks in older adults with moderate to severe knee osteoarthritis ( oa ) .',\n",
              " 'a total of @ patients with primary knee oa were randomized @:@ ; @ received @ mg/day of prednisolone and @ received placebo for @ weeks .',\n",
              " 'outcome measures included pain reduction and improvement in function scores and systemic inflammation markers .',\n",
              " 'pain was assessed using the visual analog pain scale ( @-@ mm ) .',\n",
              " 'secondary outcome measures included the western ontario and mcmaster universities osteoarthritis index scores , patient global assessment ( pga ) of the severity of knee oa , and @-min walk distance ( @mwd ) .',\n",
              " 'serum levels of interleukin @ ( il-@ ) , il-@ , tumor necrosis factor ( tnf ) - , and high-sensitivity c-reactive protein ( hscrp ) were measured .',\n",
              " 'there was a clinically relevant reduction in the intervention group compared to the placebo group for knee pain , physical function , pga , and @mwd at @ weeks .',\n",
              " 'the mean difference between treatment arms ( @ % ci ) was @ ( @-@ @ ) , p < @ ; @ ( @-@ @ ) , p < @ ; @ ( @-@ @ ) , p < @ ; and @ ( @-@ @ ) , p < @ , respectively .',\n",
              " 'further , there was a clinically relevant reduction in the serum levels of il-@ , il-@ , tnf - , and hscrp at @ weeks in the intervention group when compared to the placebo group .',\n",
              " 'these differences remained significant at @ weeks .']"
            ]
          },
          "metadata": {},
          "execution_count": 14
        }
      ]
    },
    {
      "cell_type": "markdown",
      "source": [
        "## make labels numerical"
      ],
      "metadata": {
        "id": "Mvu7em7gljjX"
      }
    },
    {
      "cell_type": "code",
      "source": [
        "from sklearn.preprocessing import OneHotEncoder\n",
        "one_hot_encoder = OneHotEncoder(sparse=False)\n",
        "train_labels_one_hot = one_hot_encoder.fit_transform(train_df[\"target\"].to_numpy().reshape(-1,1))\n",
        "val_labels_one_hot = one_hot_encoder.transform(val_df[\"target\"].to_numpy().reshape(-1,1))\n",
        "test_labels_one_hot = one_hot_encoder.transform(test_df[\"target\"].to_numpy().reshape(-1,1))\n",
        "\n",
        "train_labels_one_hot"
      ],
      "metadata": {
        "colab": {
          "base_uri": "https://localhost:8080/"
        },
        "id": "W5inazbOlzWC",
        "outputId": "cb7eb70f-f419-4b51-96b6-cd1be18de359"
      },
      "execution_count": 15,
      "outputs": [
        {
          "output_type": "execute_result",
          "data": {
            "text/plain": [
              "array([[0., 0., 0., 1., 0.],\n",
              "       [0., 0., 1., 0., 0.],\n",
              "       [0., 0., 1., 0., 0.],\n",
              "       ...,\n",
              "       [0., 0., 0., 0., 1.],\n",
              "       [0., 1., 0., 0., 0.],\n",
              "       [0., 1., 0., 0., 0.]])"
            ]
          },
          "metadata": {},
          "execution_count": 15
        }
      ]
    },
    {
      "cell_type": "markdown",
      "source": [
        "### label encodes labels"
      ],
      "metadata": {
        "id": "XfEd9gJunaAz"
      }
    },
    {
      "cell_type": "code",
      "source": [
        "from sklearn.preprocessing import LabelEncoder\n",
        "label_encoder = LabelEncoder()\n",
        "train_labels_encoded = label_encoder.fit_transform(train_df[\"target\"].to_numpy())\n",
        "val_labels_encoded = label_encoder.transform(val_df[\"target\"].to_numpy())\n",
        "test_labels_encoded = label_encoder.transform(test_df[\"target\"].to_numpy())\n",
        "\n",
        "train_labels_encoded, train_labels_encoded.shape"
      ],
      "metadata": {
        "colab": {
          "base_uri": "https://localhost:8080/"
        },
        "id": "OVUIrj_Hnr_I",
        "outputId": "a747a370-cabc-4de6-d970-98138a5dab1c"
      },
      "execution_count": 16,
      "outputs": [
        {
          "output_type": "execute_result",
          "data": {
            "text/plain": [
              "(array([3, 2, 2, ..., 4, 1, 1]), (180040,))"
            ]
          },
          "metadata": {},
          "execution_count": 16
        }
      ]
    },
    {
      "cell_type": "code",
      "source": [
        "num_classes = len(label_encoder.classes_)\n",
        "class_names = label_encoder.classes_\n",
        "num_classes, class_names"
      ],
      "metadata": {
        "colab": {
          "base_uri": "https://localhost:8080/"
        },
        "id": "2dXJxGT6ovj4",
        "outputId": "01b5ad3f-0d4d-4474-b1df-90b2ecf48a6d"
      },
      "execution_count": 17,
      "outputs": [
        {
          "output_type": "execute_result",
          "data": {
            "text/plain": [
              "(5, array(['BACKGROUND', 'CONCLUSIONS', 'METHODS', 'OBJECTIVE', 'RESULTS'],\n",
              "       dtype=object))"
            ]
          },
          "metadata": {},
          "execution_count": 17
        }
      ]
    },
    {
      "cell_type": "markdown",
      "source": [
        "## Baseline model"
      ],
      "metadata": {
        "id": "brPW_Y5XpIDJ"
      }
    },
    {
      "cell_type": "code",
      "source": [
        "from sklearn.feature_extraction.text import TfidfVectorizer\n",
        "from sklearn.naive_bayes import MultinomialNB\n",
        "from sklearn.pipeline import Pipeline\n",
        "\n",
        "model_0 = Pipeline([\n",
        "    (\"TfidfVectorizer\", TfidfVectorizer()),\n",
        "    (\"gaussianNB\", MultinomialNB())\n",
        "])\n",
        "\n",
        "model_0.fit(train_sentences, train_labels_encoded)"
      ],
      "metadata": {
        "colab": {
          "base_uri": "https://localhost:8080/"
        },
        "id": "UUOnaL9CXais",
        "outputId": "d0f42f1d-9b7b-488d-82ba-b4e801d8e822"
      },
      "execution_count": 18,
      "outputs": [
        {
          "output_type": "execute_result",
          "data": {
            "text/plain": [
              "Pipeline(steps=[('TfidfVectorizer', TfidfVectorizer()),\n",
              "                ('gaussianNB', MultinomialNB())])"
            ]
          },
          "metadata": {},
          "execution_count": 18
        }
      ]
    },
    {
      "cell_type": "code",
      "source": [
        "model_0.score(val_sentences, val_labels_encoded)"
      ],
      "metadata": {
        "colab": {
          "base_uri": "https://localhost:8080/"
        },
        "id": "VTDfYC5rYPk8",
        "outputId": "f54aec0e-774f-42e7-8f6b-e0aef830bd2b"
      },
      "execution_count": 19,
      "outputs": [
        {
          "output_type": "execute_result",
          "data": {
            "text/plain": [
              "0.7218323844829869"
            ]
          },
          "metadata": {},
          "execution_count": 19
        }
      ]
    },
    {
      "cell_type": "code",
      "source": [
        "baseline_preds = model_0.predict(test_sentences)\n",
        "baseline_preds"
      ],
      "metadata": {
        "colab": {
          "base_uri": "https://localhost:8080/"
        },
        "id": "iJ9Zqt3ZY-jf",
        "outputId": "b195319b-2ba7-46a1-8f73-de01356a869e"
      },
      "execution_count": 20,
      "outputs": [
        {
          "output_type": "execute_result",
          "data": {
            "text/plain": [
              "array([2, 2, 2, ..., 4, 4, 4])"
            ]
          },
          "metadata": {},
          "execution_count": 20
        }
      ]
    },
    {
      "cell_type": "markdown",
      "source": [
        "For evaluate how our model performs we are using following metrics:\n",
        "\n",
        "* Accuracy: $\\frac {TP}{(TP+TN)}$\n",
        "\n",
        "* Precision: $\\frac {TP}{(TP+FP)}$\n",
        "\n",
        "* Recall: $\\frac {TP}{(TP+FN)}$\n",
        "\n",
        "* F1-score: $\\frac {2}{\\frac {1}{Precision}+ \\frac {1}{recall}}$"
      ],
      "metadata": {
        "id": "YnaFsdk5ZLCw"
      }
    },
    {
      "cell_type": "code",
      "source": [
        "# download helper function\n",
        "!wget https://raw.githubusercontent.com/AmirGhnbr/Big-Food-Vision/main/helper.py"
      ],
      "metadata": {
        "colab": {
          "base_uri": "https://localhost:8080/"
        },
        "id": "WkFcSpPzbK1f",
        "outputId": "0738d3d7-2e47-4f26-e5f8-b538e7e4b730"
      },
      "execution_count": 21,
      "outputs": [
        {
          "output_type": "stream",
          "name": "stdout",
          "text": [
            "--2022-11-26 16:57:12--  https://raw.githubusercontent.com/AmirGhnbr/Big-Food-Vision/main/helper.py\n",
            "Resolving raw.githubusercontent.com (raw.githubusercontent.com)... 185.199.108.133, 185.199.109.133, 185.199.110.133, ...\n",
            "Connecting to raw.githubusercontent.com (raw.githubusercontent.com)|185.199.108.133|:443... connected.\n",
            "HTTP request sent, awaiting response... 200 OK\n",
            "Length: 10568 (10K) [text/plain]\n",
            "Saving to: ‘helper.py’\n",
            "\n",
            "\rhelper.py             0%[                    ]       0  --.-KB/s               \rhelper.py           100%[===================>]  10.32K  --.-KB/s    in 0s      \n",
            "\n",
            "2022-11-26 16:57:12 (84.6 MB/s) - ‘helper.py’ saved [10568/10568]\n",
            "\n"
          ]
        }
      ]
    },
    {
      "cell_type": "code",
      "source": [
        "from helper import calculate_results\n",
        "calculate_results(test_labels_encoded,\n",
        "                  baseline_preds) "
      ],
      "metadata": {
        "colab": {
          "base_uri": "https://localhost:8080/"
        },
        "id": "OGN_ZgDYb9Gq",
        "outputId": "1986d30e-27fe-40a3-acd0-56f0c614d5c6"
      },
      "execution_count": 22,
      "outputs": [
        {
          "output_type": "execute_result",
          "data": {
            "text/plain": [
              "{'accuracy': 71.6674962667994,\n",
              " 'precision': 0.7124322482375202,\n",
              " 'recall': 0.716674962667994,\n",
              " 'f1': 0.6925101703856846}"
            ]
          },
          "metadata": {},
          "execution_count": 22
        }
      ]
    },
    {
      "cell_type": "markdown",
      "source": [
        "## Prepare data for sequence models"
      ],
      "metadata": {
        "id": "vzR2-JGLcVPG"
      }
    },
    {
      "cell_type": "code",
      "source": [
        "import numpy as np\n",
        "import tensorflow as tf\n",
        "from tensorflow.keras import layers"
      ],
      "metadata": {
        "id": "R27zxquQgNWx"
      },
      "execution_count": 23,
      "outputs": []
    },
    {
      "cell_type": "code",
      "source": [
        "sen_length = [len(sentence.split()) for sentence in train_sentences]\n",
        "sen_length[:10]"
      ],
      "metadata": {
        "colab": {
          "base_uri": "https://localhost:8080/"
        },
        "id": "m-5jol3sgZlw",
        "outputId": "c821a165-c0bf-42f4-f3eb-453c2718b9ed"
      },
      "execution_count": 24,
      "outputs": [
        {
          "output_type": "execute_result",
          "data": {
            "text/plain": [
              "[49, 27, 15, 14, 35, 29, 30, 55, 36, 8]"
            ]
          },
          "metadata": {},
          "execution_count": 24
        }
      ]
    },
    {
      "cell_type": "code",
      "source": [
        "average_sentence_len = np.mean(sen_length)\n",
        "average_sentence_len"
      ],
      "metadata": {
        "colab": {
          "base_uri": "https://localhost:8080/"
        },
        "id": "uUViv4sng0Xw",
        "outputId": "2421d6b6-5825-44cd-a55a-c1ee1779365a"
      },
      "execution_count": 25,
      "outputs": [
        {
          "output_type": "execute_result",
          "data": {
            "text/plain": [
              "26.338269273494777"
            ]
          },
          "metadata": {},
          "execution_count": 25
        }
      ]
    },
    {
      "cell_type": "code",
      "source": [
        "import matplotlib.pyplot as plt\n",
        "plt.hist(sen_length,bins =7);"
      ],
      "metadata": {
        "colab": {
          "base_uri": "https://localhost:8080/",
          "height": 54
        },
        "id": "T4Vw8UjOhCAp",
        "outputId": "0f9355e0-8776-470d-b8e5-3a7c6ad1fe3f"
      },
      "execution_count": 26,
      "outputs": [
        {
          "output_type": "display_data",
          "data": {
            "text/plain": [
              "<Figure size 432x288 with 1 Axes>"
            ],
            "image/png": "[encoded data removed]"
          },
          "metadata": {
            "needs_background": "light"
          }
        }
      ]
    },
    {
      "cell_type": "code",
      "source": [
        "output_sec_len = int(np.percentile(sen_length,95))\n",
        "output_sec_len"
      ],
      "metadata": {
        "colab": {
          "base_uri": "https://localhost:8080/"
        },
        "id": "j_46semBhP4E",
        "outputId": "d7579d07-f67e-4b1f-f333-44a907fe4d94"
      },
      "execution_count": 27,
      "outputs": [
        {
          "output_type": "execute_result",
          "data": {
            "text/plain": [
              "55"
            ]
          },
          "metadata": {},
          "execution_count": 27
        }
      ]
    },
    {
      "cell_type": "markdown",
      "source": [
        "95 % of data's length are less than 55"
      ],
      "metadata": {
        "id": "OU4h-vSwhtK4"
      }
    },
    {
      "cell_type": "markdown",
      "source": [
        "## Create Text vectorizer"
      ],
      "metadata": {
        "id": "NeI18ni6iBSo"
      }
    },
    {
      "cell_type": "code",
      "source": [
        "max_tokens = 68000 ## according to paper"
      ],
      "metadata": {
        "id": "hgDsaBrSkPse"
      },
      "execution_count": 28,
      "outputs": []
    },
    {
      "cell_type": "code",
      "source": [
        "from tensorflow.keras.layers import TextVectorization\n",
        "\n",
        "text_vectorizer = TextVectorization(max_tokens = max_tokens,\n",
        "                                    output_sequence_length =output_sec_len)\n",
        "text_vectorizer"
      ],
      "metadata": {
        "colab": {
          "base_uri": "https://localhost:8080/"
        },
        "id": "1Nc8FwmMkUOf",
        "outputId": "2b20d2cd-b8c8-4137-93c2-21edb00f7fb0"
      },
      "execution_count": 29,
      "outputs": [
        {
          "output_type": "execute_result",
          "data": {
            "text/plain": [
              "<keras.layers.preprocessing.text_vectorization.TextVectorization at 0x7f0f1c560e90>"
            ]
          },
          "metadata": {},
          "execution_count": 29
        }
      ]
    },
    {
      "cell_type": "code",
      "source": [
        "text_vectorizer.adapt(train_sentences)"
      ],
      "metadata": {
        "id": "PLcxf5-Qk8aJ"
      },
      "execution_count": 30,
      "outputs": []
    },
    {
      "cell_type": "code",
      "source": [
        "import random\n",
        "target_sentence = random.choice(train_sentences)\n",
        "print(f\"Text:\\n{target_sentence}\")\n",
        "print(f\"\\nLength of text: {len(target_sentence.split())}\")\n",
        "print(f\"\\nVectorized text:\\n{text_vectorizer([target_sentence])}\")"
      ],
      "metadata": {
        "colab": {
          "base_uri": "https://localhost:8080/"
        },
        "id": "WFfN_dQqwQZB",
        "outputId": "afc78e58-f0fd-40bd-ffc2-11367ec06043"
      },
      "execution_count": 31,
      "outputs": [
        {
          "output_type": "stream",
          "name": "stdout",
          "text": [
            "Text:\n",
            "after adjustment for all covariates , risk of progression ( but not incidence ) of dr increased by @ % for each @ % increase in baseline hba@c ( or @ ; @ % ci @ , @ ; p = @ ) .\n",
            "\n",
            "Length of text: 44\n",
            "\n",
            "Vectorized text:\n",
            "[[  21 1144   11   62 2698   73    4  499   72   31  214    4 4122   96\n",
            "    22   11  122  179    5   49  615   16   50   14    0    0    0    0\n",
            "     0    0    0    0    0    0    0    0    0    0    0    0    0    0\n",
            "     0    0    0    0    0    0    0    0    0    0    0    0    0]]\n"
          ]
        }
      ]
    },
    {
      "cell_type": "code",
      "source": [
        "rct_20k_text_vocab = text_vectorizer.get_vocabulary()\n",
        "print(f\"Number of words in vocabulary: {len(rct_20k_text_vocab)}\"), \n",
        "print(f\"Most common words in the vocabulary: {rct_20k_text_vocab[:5]}\")\n",
        "print(f\"Least common words in the vocabulary: {rct_20k_text_vocab[-5:]}\")"
      ],
      "metadata": {
        "colab": {
          "base_uri": "https://localhost:8080/"
        },
        "id": "kvOvs9dolTV8",
        "outputId": "61302dc1-76f1-4ec9-898e-6f913c4c0261"
      },
      "execution_count": 32,
      "outputs": [
        {
          "output_type": "stream",
          "name": "stdout",
          "text": [
            "Number of words in vocabulary: 64841\n",
            "Most common words in the vocabulary: ['', '[UNK]', 'the', 'and', 'of']\n",
            "Least common words in the vocabulary: ['aainduced', 'aaigroup', 'aachener', 'aachen', 'aaacp']\n"
          ]
        }
      ]
    },
    {
      "cell_type": "markdown",
      "source": [
        "## Create custom  text Embedding"
      ],
      "metadata": {
        "id": "p5KsegX_leYJ"
      }
    },
    {
      "cell_type": "markdown",
      "source": [
        "Word embeddings give us a way to use an efficient, dense representation in which similar words have a similar encoding. Importantly, you do not have to specify this encoding by hand. An embedding is a dense vector of floating point values (the length of the vector is a parameter you specify). Instead of specifying the values for the embedding manually, they are trainable parameters (weights learned by the model during training, in the same way a model learns weights for a dense layer). It is common to see word embeddings that are 8-dimensional (for small datasets), up to 1024-dimensions when working with large datasets. A higher dimensional embedding can capture fine-grained relationships between words, but takes more data to learn. [Tensorflow docs](https://www.tensorflow.org/text/guide/word_embeddings)\n",
        "\n",
        "For better understanding of the werd emmbeding you can head over to [tensorflow emmbedding projector](http://projector.tensorflow.org/)"
      ],
      "metadata": {
        "id": "zgp9EcKGDpGf"
      }
    },
    {
      "cell_type": "code",
      "source": [
        "token_embed = layers.Embedding(input_dim=len(rct_20k_text_vocab),\n",
        "                               output_dim = 256,\n",
        "                               mask_zero= True,\n",
        "                               name= \"embedding\")"
      ],
      "metadata": {
        "id": "YDgYUuFiusBU"
      },
      "execution_count": 33,
      "outputs": []
    },
    {
      "cell_type": "code",
      "source": [
        "print(f\"Sentence before vectorization:\\n{target_sentence}\\n\")\n",
        "vectorized_sentence = text_vectorizer([target_sentence])\n",
        "print(f\"Sentence after vectorization (before embedding):\\n{vectorized_sentence}\\n\")\n",
        "embedded_sentence = token_embed(vectorized_sentence)\n",
        "print(f\"Sentence after embedding:\\n{embedded_sentence}\\n\")\n",
        "print(f\"Embedded sentence shape: {embedded_sentence.shape}\")"
      ],
      "metadata": {
        "colab": {
          "base_uri": "https://localhost:8080/"
        },
        "id": "OGYrYf04v6YU",
        "outputId": "3993a101-ab4e-4f28-f4f4-78d871994c70"
      },
      "execution_count": 34,
      "outputs": [
        {
          "output_type": "stream",
          "name": "stdout",
          "text": [
            "Sentence before vectorization:\n",
            "after adjustment for all covariates , risk of progression ( but not incidence ) of dr increased by @ % for each @ % increase in baseline hba@c ( or @ ; @ % ci @ , @ ; p = @ ) .\n",
            "\n",
            "Sentence after vectorization (before embedding):\n",
            "[[  21 1144   11   62 2698   73    4  499   72   31  214    4 4122   96\n",
            "    22   11  122  179    5   49  615   16   50   14    0    0    0    0\n",
            "     0    0    0    0    0    0    0    0    0    0    0    0    0    0\n",
            "     0    0    0    0    0    0    0    0    0    0    0    0    0]]\n",
            "\n",
            "Sentence after embedding:\n",
            "[[[-0.02909147 -0.0359267   0.02853657 ...  0.01926675 -0.04102324\n",
            "    0.04927229]\n",
            "  [-0.0065643  -0.01892811  0.00347632 ... -0.00187017 -0.01059691\n",
            "    0.02976536]\n",
            "  [ 0.03390649  0.03787059  0.00011419 ... -0.02215867  0.01312703\n",
            "   -0.00071306]\n",
            "  ...\n",
            "  [ 0.00555043 -0.01554774  0.00843536 ...  0.03483773  0.01087536\n",
            "    0.04401508]\n",
            "  [ 0.00555043 -0.01554774  0.00843536 ...  0.03483773  0.01087536\n",
            "    0.04401508]\n",
            "  [ 0.00555043 -0.01554774  0.00843536 ...  0.03483773  0.01087536\n",
            "    0.04401508]]]\n",
            "\n",
            "Embedded sentence shape: (1, 55, 256)\n"
          ]
        }
      ]
    },
    {
      "cell_type": "markdown",
      "source": [
        "## Create datasets"
      ],
      "metadata": {
        "id": "a3CPXbc_wabK"
      }
    },
    {
      "cell_type": "markdown",
      "source": [
        "The `tf.data` API enables you to build complex input pipelines from simple, reusable pieces."
      ],
      "metadata": {
        "id": "rso5fGJYGZIH"
      }
    },
    {
      "cell_type": "markdown",
      "source": [
        "(data:image/png;base64,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)"
      ],
      "metadata": {
        "id": "lX5GP4zJIrUq"
      }
    },
    {
      "cell_type": "code",
      "source": [
        "train_dataset= tf.data.Dataset.from_tensor_slices((train_sentences, train_labels_one_hot))\n",
        "val_dataset = tf.data.Dataset.from_tensor_slices((val_sentences, val_labels_one_hot))\n",
        "test_dataset = tf.data.Dataset.from_tensor_slices((test_sentences, test_labels_one_hot))\n",
        "\n",
        "train_dataset"
      ],
      "metadata": {
        "colab": {
          "base_uri": "https://localhost:8080/"
        },
        "id": "2ZifUypSwvox",
        "outputId": "42dc3047-8a1d-4177-8762-4940c5737501"
      },
      "execution_count": 35,
      "outputs": [
        {
          "output_type": "execute_result",
          "data": {
            "text/plain": [
              "<TensorSliceDataset element_spec=(TensorSpec(shape=(), dtype=tf.string, name=None), TensorSpec(shape=(5,), dtype=tf.float64, name=None))>"
            ]
          },
          "metadata": {},
          "execution_count": 35
        }
      ]
    },
    {
      "cell_type": "code",
      "source": [
        "train_dataset = train_dataset.batch(32).prefetch(tf.data.AUTOTUNE)\n",
        "val_dataset = val_dataset.batch(32).prefetch(tf.data.AUTOTUNE)\n",
        "test_dataset = test_dataset.batch(32).prefetch(tf.data.AUTOTUNE)\n",
        "\n",
        "train_dataset"
      ],
      "metadata": {
        "colab": {
          "base_uri": "https://localhost:8080/"
        },
        "id": "7U-lrvYo09Xz",
        "outputId": "6ed4f905-14ac-4547-dd1c-c0a86a4abff2"
      },
      "execution_count": 36,
      "outputs": [
        {
          "output_type": "execute_result",
          "data": {
            "text/plain": [
              "<PrefetchDataset element_spec=(TensorSpec(shape=(None,), dtype=tf.string, name=None), TensorSpec(shape=(None, 5), dtype=tf.float64, name=None))>"
            ]
          },
          "metadata": {},
          "execution_count": 36
        }
      ]
    },
    {
      "cell_type": "code",
      "source": [
        "inputs = layers.Input(shape=(1,), dtype=tf.string)\n",
        "text_vector = text_vectorizer(inputs)\n",
        "token_embeding = token_embed(text_vector)\n",
        "x = layers.Conv1D(64, 5, padding=\"same\", activation=\"relu\")(token_embeding)\n",
        "x = layers.GlobalAveragePooling1D()(x)\n",
        "outputs = layers.Dense(num_classes, activation=\"softmax\")(x)\n",
        "model_1 = tf.keras.models.Model(inputs, outputs)\n",
        "model_1.summary()\n"
      ],
      "metadata": {
        "colab": {
          "base_uri": "https://localhost:8080/"
        },
        "id": "OMVXGT5lxo8H",
        "outputId": "683fbd7a-5104-417b-9808-3ec30fc71057"
      },
      "execution_count": 37,
      "outputs": [
        {
          "output_type": "stream",
          "name": "stdout",
          "text": [
            "Model: \"model\"\n",
            "_________________________________________________________________\n",
            " Layer (type)                Output Shape              Param #   \n",
            "=================================================================\n",
            " input_1 (InputLayer)        [(None, 1)]               0         \n",
            "                                                                 \n",
            " text_vectorization (TextVec  (None, 55)               0         \n",
            " torization)                                                     \n",
            "                                                                 \n",
            " embedding (Embedding)       (None, 55, 256)           16599296  \n",
            "                                                                 \n",
            " conv1d (Conv1D)             (None, 55, 64)            81984     \n",
            "                                                                 \n",
            " global_average_pooling1d (G  (None, 64)               0         \n",
            " lobalAveragePooling1D)                                          \n",
            "                                                                 \n",
            " dense (Dense)               (None, 5)                 325       \n",
            "                                                                 \n",
            "=================================================================\n",
            "Total params: 16,681,605\n",
            "Trainable params: 16,681,605\n",
            "Non-trainable params: 0\n",
            "_________________________________________________________________\n"
          ]
        }
      ]
    },
    {
      "cell_type": "markdown",
      "source": [
        "## Model 1\n",
        "Use Adam optimizer instead of sgd\n",
        "\n",
        "We introduce [Adam](https://arxiv.org/abs/1412.6980), an algorithm for first-order gradient-based optimization of\n",
        "stochastic objective functions, based on adaptive estimates of lower order moments."
      ],
      "metadata": {
        "id": "mCKZNBZxd9py"
      }
    },
    {
      "cell_type": "code",
      "source": [
        "model_1.compile(loss = \"categorical_crossentropy\",\n",
        "                optimizer = tf.keras.optimizers.Adam(),\n",
        "                metrics=[\"accuracy\"])"
      ],
      "metadata": {
        "id": "ZRvf9T7-z1fe"
      },
      "execution_count": 38,
      "outputs": []
    },
    {
      "cell_type": "code",
      "source": [
        "model_1_hist= model_1.fit(train_dataset,\n",
        "                          steps_per_epoch= int(0.1*len(train_dataset)),\n",
        "                          epochs=5, \n",
        "                          validation_data= val_dataset,\n",
        "                          validation_steps = int(0.1*len(val_dataset))\n",
        "                          )"
      ],
      "metadata": {
        "colab": {
          "base_uri": "https://localhost:8080/"
        },
        "id": "yttp1vc90Xp2",
        "outputId": "be67af4a-7ee6-401e-ac9a-54139fb17cd5"
      },
      "execution_count": 39,
      "outputs": [
        {
          "output_type": "stream",
          "name": "stdout",
          "text": [
            "Epoch 1/5\n",
            "562/562 [==============================] - 16s 13ms/step - loss: 0.8640 - accuracy: 0.6591 - val_loss: 0.6685 - val_accuracy: 0.7517\n",
            "Epoch 2/5\n",
            "562/562 [==============================] - 7s 13ms/step - loss: 0.6424 - accuracy: 0.7651 - val_loss: 0.6193 - val_accuracy: 0.7756\n",
            "Epoch 3/5\n",
            "562/562 [==============================] - 7s 13ms/step - loss: 0.6047 - accuracy: 0.7803 - val_loss: 0.5869 - val_accuracy: 0.7889\n",
            "Epoch 4/5\n",
            "562/562 [==============================] - 7s 13ms/step - loss: 0.5780 - accuracy: 0.7938 - val_loss: 0.5691 - val_accuracy: 0.7919\n",
            "Epoch 5/5\n",
            "562/562 [==============================] - 7s 13ms/step - loss: 0.5824 - accuracy: 0.7949 - val_loss: 0.5551 - val_accuracy: 0.8012\n"
          ]
        }
      ]
    },
    {
      "cell_type": "code",
      "source": [
        "model_1.evaluate(test_dataset)"
      ],
      "metadata": {
        "colab": {
          "base_uri": "https://localhost:8080/"
        },
        "id": "92ttQPDI0nbO",
        "outputId": "680f6cc1-6e45-4488-c0ed-f556ecd49f89"
      },
      "execution_count": 40,
      "outputs": [
        {
          "output_type": "stream",
          "name": "stdout",
          "text": [
            "942/942 [==============================] - 3s 3ms/step - loss: 0.5652 - accuracy: 0.7972\n"
          ]
        },
        {
          "output_type": "execute_result",
          "data": {
            "text/plain": [
              "[0.5651940107345581, 0.7971793413162231]"
            ]
          },
          "metadata": {},
          "execution_count": 40
        }
      ]
    },
    {
      "cell_type": "code",
      "source": [
        "model_1_prob_preds = model_1.predict(test_dataset)\n",
        "model_1_prob_preds"
      ],
      "metadata": {
        "colab": {
          "base_uri": "https://localhost:8080/"
        },
        "id": "YtJPcuHFBHLH",
        "outputId": "dd5f4dd7-03e5-466d-f743-687bc46447d1"
      },
      "execution_count": 41,
      "outputs": [
        {
          "output_type": "stream",
          "name": "stdout",
          "text": [
            "942/942 [==============================] - 2s 2ms/step\n"
          ]
        },
        {
          "output_type": "execute_result",
          "data": {
            "text/plain": [
              "array([[2.1953352e-01, 1.0067766e-01, 5.1288635e-01, 9.1747515e-02,\n",
              "        7.5154908e-02],\n",
              "       [9.1572385e-03, 3.8438209e-03, 9.5154905e-01, 7.2083264e-03,\n",
              "        2.8241487e-02],\n",
              "       [3.5247390e-04, 9.5655624e-04, 9.6919799e-01, 2.6065053e-04,\n",
              "        2.9232305e-02],\n",
              "       ...,\n",
              "       [3.9257156e-03, 3.1236425e-02, 1.8537039e-02, 2.0318327e-03,\n",
              "        9.4426900e-01],\n",
              "       [4.9695149e-03, 3.1635895e-02, 4.4150151e-02, 2.2731775e-03,\n",
              "        9.1697127e-01],\n",
              "       [1.0683113e-02, 5.8353412e-01, 3.4905497e-02, 9.9222604e-03,\n",
              "        3.6095503e-01]], dtype=float32)"
            ]
          },
          "metadata": {},
          "execution_count": 41
        }
      ]
    },
    {
      "cell_type": "code",
      "source": [
        "model_1_preds = np.argmax(model_1_prob_preds, axis=1)\n",
        "model_1_preds"
      ],
      "metadata": {
        "colab": {
          "base_uri": "https://localhost:8080/"
        },
        "id": "7X_CkVnmBP7F",
        "outputId": "5a64900f-2672-45e8-bacf-2c3f70c36479"
      },
      "execution_count": 42,
      "outputs": [
        {
          "output_type": "execute_result",
          "data": {
            "text/plain": [
              "array([2, 2, 2, ..., 4, 4, 1])"
            ]
          },
          "metadata": {},
          "execution_count": 42
        }
      ]
    },
    {
      "cell_type": "code",
      "source": [
        "model_1_result = calculate_results(test_labels_encoded,\n",
        "                                   model_1_preds)\n",
        "model_1_result"
      ],
      "metadata": {
        "colab": {
          "base_uri": "https://localhost:8080/"
        },
        "id": "otQyEbeTBkRR",
        "outputId": "ae7f56bc-1cbf-411f-cd73-4254831a1d23"
      },
      "execution_count": 43,
      "outputs": [
        {
          "output_type": "execute_result",
          "data": {
            "text/plain": [
              "{'accuracy': 79.71793595486976,\n",
              " 'precision': 0.7972589447053233,\n",
              " 'recall': 0.7971793595486976,\n",
              " 'f1': 0.7939407425438672}"
            ]
          },
          "metadata": {},
          "execution_count": 43
        }
      ]
    },
    {
      "cell_type": "markdown",
      "source": [
        "## Model 2: Feature Extractor model with pretrained token embeddings"
      ],
      "metadata": {
        "id": "Lg61cEMSCCDi"
      }
    },
    {
      "cell_type": "code",
      "source": [
        "import tensorflow_hub as hub\n",
        "tf_hub_embedding_layer = hub.KerasLayer(\"https://tfhub.dev/google/universal-sentence-encoder/4\",\n",
        "                                        trainable=False,\n",
        "                                        name = \"universal_sentence_encoder\")\n",
        "tf_hub_embedding_layer"
      ],
      "metadata": {
        "colab": {
          "base_uri": "https://localhost:8080/"
        },
        "id": "jwfyHhv4EJYI",
        "outputId": "de8b576d-e9b2-41b6-a400-fe1e3c8b8802"
      },
      "execution_count": 44,
      "outputs": [
        {
          "output_type": "execute_result",
          "data": {
            "text/plain": [
              "<tensorflow_hub.keras_layer.KerasLayer at 0x7f0ea0275350>"
            ]
          },
          "metadata": {},
          "execution_count": 44
        }
      ]
    },
    {
      "cell_type": "code",
      "source": [
        "random_training_sentence = random.choice(train_sentences)\n",
        "use_embedded_sentence = tf_hub_embedding_layer([random_training_sentence])\n",
        "print(f\"Sentence after embedding:\\n{use_embedded_sentence[0][:30]} (truncated output)...\\n\")\n",
        "print(f\"Length of sentence embedding:\\n{len(use_embedded_sentence[0])}\")"
      ],
      "metadata": {
        "colab": {
          "base_uri": "https://localhost:8080/"
        },
        "id": "6c7811tqKvVt",
        "outputId": "2963bde7-7e5c-4f96-8253-e6d8cdd0b6e1"
      },
      "execution_count": 45,
      "outputs": [
        {
          "output_type": "stream",
          "name": "stdout",
          "text": [
            "Sentence after embedding:\n",
            "[-0.00139134 -0.00830548  0.00053798 -0.0392017  -0.04841545 -0.07335439\n",
            "  0.0331481  -0.01584887  0.00015834  0.04703814  0.08241349 -0.03292317\n",
            "  0.02774068  0.01155284 -0.03548968 -0.03998256 -0.09124336  0.02531827\n",
            " -0.06281142  0.01251328 -0.07995811  0.05104778  0.04728747 -0.08175481\n",
            "  0.00197723 -0.05905626  0.01072913  0.0073352  -0.05343081  0.0403165 ] (truncated output)...\n",
            "\n",
            "Length of sentence embedding:\n",
            "512\n"
          ]
        }
      ]
    },
    {
      "cell_type": "code",
      "source": [
        "inputs = layers.Input(shape=[], dtype = tf.string)\n",
        "embedding_layer = tf_hub_embedding_layer(inputs)\n",
        "x = layers.Dense(128, activation=\"relu\")(embedding_layer)\n",
        "outputs = layers.Dense(num_classes, activation=\"softmax\")(x)\n",
        "\n",
        "model_2 = tf.keras.models.Model(inputs, outputs)\n",
        "model_2.summary()"
      ],
      "metadata": {
        "colab": {
          "base_uri": "https://localhost:8080/"
        },
        "id": "Li0ZeVr6LCDP",
        "outputId": "b0db1168-bd7e-47f7-f1e8-e1978daee999"
      },
      "execution_count": 46,
      "outputs": [
        {
          "output_type": "stream",
          "name": "stdout",
          "text": [
            "Model: \"model_1\"\n",
            "_________________________________________________________________\n",
            " Layer (type)                Output Shape              Param #   \n",
            "=================================================================\n",
            " input_2 (InputLayer)        [(None,)]                 0         \n",
            "                                                                 \n",
            " universal_sentence_encoder   (None, 512)              256797824 \n",
            " (KerasLayer)                                                    \n",
            "                                                                 \n",
            " dense_1 (Dense)             (None, 128)               65664     \n",
            "                                                                 \n",
            " dense_2 (Dense)             (None, 5)                 645       \n",
            "                                                                 \n",
            "=================================================================\n",
            "Total params: 256,864,133\n",
            "Trainable params: 66,309\n",
            "Non-trainable params: 256,797,824\n",
            "_________________________________________________________________\n"
          ]
        }
      ]
    },
    {
      "cell_type": "code",
      "source": [
        "model_2.compile(loss = tf.keras.losses.CategoricalCrossentropy(),\n",
        "                optimizer= tf.keras.optimizers.Adam(),\n",
        "                metrics=[\"accuracy\"])"
      ],
      "metadata": {
        "id": "sWTC2gC7MApa"
      },
      "execution_count": 47,
      "outputs": []
    },
    {
      "cell_type": "code",
      "source": [
        "model_2_hist = model_2.fit(train_dataset,\n",
        "                           steps_per_epoch= int(0.1*len(train_dataset)),\n",
        "                           epochs=5, \n",
        "                           validation_data= val_dataset,\n",
        "                           validation_steps = int(0.1*len(val_dataset)))"
      ],
      "metadata": {
        "colab": {
          "base_uri": "https://localhost:8080/"
        },
        "id": "P2lmueXyNHMt",
        "outputId": "43bfc138-42e3-4059-8533-30b1f14ab2cb"
      },
      "execution_count": 48,
      "outputs": [
        {
          "output_type": "stream",
          "name": "stdout",
          "text": [
            "Epoch 1/5\n",
            "562/562 [==============================] - 10s 13ms/step - loss: 0.9181 - accuracy: 0.6492 - val_loss: 0.7975 - val_accuracy: 0.6895\n",
            "Epoch 2/5\n",
            "562/562 [==============================] - 7s 12ms/step - loss: 0.7701 - accuracy: 0.7002 - val_loss: 0.7559 - val_accuracy: 0.7035\n",
            "Epoch 3/5\n",
            "562/562 [==============================] - 7s 12ms/step - loss: 0.7544 - accuracy: 0.7120 - val_loss: 0.7408 - val_accuracy: 0.7131\n",
            "Epoch 4/5\n",
            "562/562 [==============================] - 7s 12ms/step - loss: 0.7214 - accuracy: 0.7233 - val_loss: 0.7129 - val_accuracy: 0.7284\n",
            "Epoch 5/5\n",
            "562/562 [==============================] - 7s 12ms/step - loss: 0.7287 - accuracy: 0.7203 - val_loss: 0.6928 - val_accuracy: 0.7327\n"
          ]
        }
      ]
    },
    {
      "cell_type": "code",
      "source": [
        "model_2.evaluate(test_dataset)"
      ],
      "metadata": {
        "colab": {
          "base_uri": "https://localhost:8080/"
        },
        "id": "2egPM_zBNl_y",
        "outputId": "70fc34a4-52da-4d09-8f0c-90d248097050"
      },
      "execution_count": 49,
      "outputs": [
        {
          "output_type": "stream",
          "name": "stdout",
          "text": [
            "942/942 [==============================] - 11s 12ms/step - loss: 0.7171 - accuracy: 0.7264\n"
          ]
        },
        {
          "output_type": "execute_result",
          "data": {
            "text/plain": [
              "[0.7171163558959961, 0.7263646721839905]"
            ]
          },
          "metadata": {},
          "execution_count": 49
        }
      ]
    },
    {
      "cell_type": "code",
      "source": [
        "model_2_pred_prob = model_2.predict(test_dataset)\n",
        "model_2_pred_prob"
      ],
      "metadata": {
        "colab": {
          "base_uri": "https://localhost:8080/"
        },
        "id": "gXi7q2PfN4ZO",
        "outputId": "19af1b82-c386-42ee-a9f3-dfe9fc96699b"
      },
      "execution_count": 50,
      "outputs": [
        {
          "output_type": "stream",
          "name": "stdout",
          "text": [
            "942/942 [==============================] - 9s 10ms/step\n"
          ]
        },
        {
          "output_type": "execute_result",
          "data": {
            "text/plain": [
              "array([[3.3291897e-01, 1.2173274e-01, 1.9700411e-01, 2.9518956e-01,\n",
              "        5.3154580e-02],\n",
              "       [3.6064529e-01, 2.6270125e-02, 2.0729354e-01, 3.8687891e-01,\n",
              "        1.8912079e-02],\n",
              "       [5.1029003e-04, 3.3693837e-03, 9.3238091e-01, 6.2196882e-04,\n",
              "        6.3117459e-02],\n",
              "       ...,\n",
              "       [4.9075822e-04, 1.9616390e-02, 9.8208999e-03, 8.6592256e-05,\n",
              "        9.6998537e-01],\n",
              "       [5.8365935e-03, 4.1844580e-02, 4.7622547e-02, 1.0965033e-03,\n",
              "        9.0359974e-01],\n",
              "       [1.5081674e-02, 3.8672820e-01, 3.4638426e-01, 9.5966998e-03,\n",
              "        2.4220915e-01]], dtype=float32)"
            ]
          },
          "metadata": {},
          "execution_count": 50
        }
      ]
    },
    {
      "cell_type": "code",
      "source": [
        "model_2_preds = np.argmax(model_2_pred_prob, axis=1)\n",
        "model_2_preds"
      ],
      "metadata": {
        "colab": {
          "base_uri": "https://localhost:8080/"
        },
        "id": "cYa8XO2_ODAW",
        "outputId": "1eb5874b-65af-4e38-b089-2f69836e0e1b"
      },
      "execution_count": 51,
      "outputs": [
        {
          "output_type": "execute_result",
          "data": {
            "text/plain": [
              "array([0, 3, 2, ..., 4, 4, 1])"
            ]
          },
          "metadata": {},
          "execution_count": 51
        }
      ]
    },
    {
      "cell_type": "code",
      "source": [
        "model_2_results = calculate_results(test_labels_encoded,\n",
        "                                    model_2_preds)\n",
        "model_2_results"
      ],
      "metadata": {
        "id": "FrbklSy3OSI1",
        "colab": {
          "base_uri": "https://localhost:8080/"
        },
        "outputId": "9ed7f5e2-6979-41a5-b14f-d72a746acd4f"
      },
      "execution_count": 52,
      "outputs": [
        {
          "output_type": "execute_result",
          "data": {
            "text/plain": [
              "{'accuracy': 72.63646922183507,\n",
              " 'precision': 0.7225646844394077,\n",
              " 'recall': 0.7263646922183508,\n",
              " 'f1': 0.721031793567132}"
            ]
          },
          "metadata": {},
          "execution_count": 52
        }
      ]
    },
    {
      "cell_type": "markdown",
      "source": [
        "## Model 3 : Feature Extractor Using Selu Activation Lecun initializer"
      ],
      "metadata": {
        "id": "XgaCNmpHNpPp"
      }
    },
    {
      "cell_type": "markdown",
      "source": [
        "### Based on [Selu paper](https://arxiv.org/pdf/1706.02515) & [lecun Initializer](https://arxiv.org/pdf/1803.01719.pdf)\n",
        "\n",
        "\n",
        "* Selu activation introduced in Self-Normalizing Neural Networks paper. "
      ],
      "metadata": {
        "id": "zhglOz5KOsIt"
      }
    },
    {
      "cell_type": "code",
      "source": [
        "import tensorflow_hub as hub\n",
        "tf_hub_embedding_layer_2 = hub.KerasLayer(\"https://tfhub.dev/google/universal-sentence-encoder/4\",\n",
        "                                        trainable=True,\n",
        "                                        name = \"universal_sentence_encoder\")\n",
        "tf_hub_embedding_layer_2"
      ],
      "metadata": {
        "id": "BngxspDoOK3m",
        "colab": {
          "base_uri": "https://localhost:8080/"
        },
        "outputId": "c8e5f584-bc3e-4163-ad59-e69f0499cbdb"
      },
      "execution_count": 53,
      "outputs": [
        {
          "output_type": "execute_result",
          "data": {
            "text/plain": [
              "<tensorflow_hub.keras_layer.KerasLayer at 0x7f0e6a3e78d0>"
            ]
          },
          "metadata": {},
          "execution_count": 53
        }
      ]
    },
    {
      "cell_type": "code",
      "source": [
        "inputs = layers.Input(shape=[], dtype = tf.string)\n",
        "embedding_layer = tf_hub_embedding_layer_2(inputs)\n",
        "x = layers.Dense(128, activation=\"selu\",kernel_initializer=\"lecun_normal\")(embedding_layer)\n",
        "outputs = layers.Dense(num_classes, activation=\"softmax\")(x)\n",
        "\n",
        "model_3 = tf.keras.models.Model(inputs, outputs)\n",
        "\n",
        "model_3.compile(loss=\"categorical_crossentropy\",\n",
        "                optimizer=tf.keras.optimizers.Adam(),\n",
        "                metrics=[\"accuracy\"])\n",
        "model_3.summary()"
      ],
      "metadata": {
        "id": "32wQlJk6Oax1",
        "colab": {
          "base_uri": "https://localhost:8080/"
        },
        "outputId": "45663118-8497-49d2-d964-c417deb1bba3"
      },
      "execution_count": 54,
      "outputs": [
        {
          "output_type": "stream",
          "name": "stdout",
          "text": [
            "Model: \"model_2\"\n",
            "_________________________________________________________________\n",
            " Layer (type)                Output Shape              Param #   \n",
            "=================================================================\n",
            " input_3 (InputLayer)        [(None,)]                 0         \n",
            "                                                                 \n",
            " universal_sentence_encoder   (None, 512)              256797824 \n",
            " (KerasLayer)                                                    \n",
            "                                                                 \n",
            " dense_3 (Dense)             (None, 128)               65664     \n",
            "                                                                 \n",
            " dense_4 (Dense)             (None, 5)                 645       \n",
            "                                                                 \n",
            "=================================================================\n",
            "Total params: 256,864,133\n",
            "Trainable params: 256,864,133\n",
            "Non-trainable params: 0\n",
            "_________________________________________________________________\n"
          ]
        }
      ]
    },
    {
      "cell_type": "code",
      "source": [
        "model_3_history = model_3.fit(train_dataset,\n",
        "                              steps_per_epoch=int(0.1 * len(train_dataset)),\n",
        "                              epochs=5,\n",
        "                              validation_data=val_dataset,\n",
        "                              validation_steps=int(0.1 * len(val_dataset)))"
      ],
      "metadata": {
        "id": "tRC2GstJQe6U",
        "colab": {
          "base_uri": "https://localhost:8080/"
        },
        "outputId": "4b30ddc0-6f86-4219-de2c-619c3cbacb77"
      },
      "execution_count": 55,
      "outputs": [
        {
          "output_type": "stream",
          "name": "stdout",
          "text": [
            "Epoch 1/5\n",
            "562/562 [==============================] - 91s 153ms/step - loss: 0.7258 - accuracy: 0.7201 - val_loss: 0.5567 - val_accuracy: 0.7862\n",
            "Epoch 2/5\n",
            "562/562 [==============================] - 86s 153ms/step - loss: 0.5590 - accuracy: 0.7937 - val_loss: 0.5181 - val_accuracy: 0.7969\n",
            "Epoch 3/5\n",
            "562/562 [==============================] - 86s 152ms/step - loss: 0.5298 - accuracy: 0.8020 - val_loss: 0.4964 - val_accuracy: 0.8029\n",
            "Epoch 4/5\n",
            "562/562 [==============================] - 85s 152ms/step - loss: 0.5036 - accuracy: 0.8159 - val_loss: 0.4771 - val_accuracy: 0.8158\n",
            "Epoch 5/5\n",
            "562/562 [==============================] - 85s 152ms/step - loss: 0.5060 - accuracy: 0.8157 - val_loss: 0.4768 - val_accuracy: 0.8261\n"
          ]
        }
      ]
    },
    {
      "cell_type": "code",
      "source": [
        "model_3.evaluate(test_dataset)"
      ],
      "metadata": {
        "id": "9IZCSHQ0QsR7",
        "colab": {
          "base_uri": "https://localhost:8080/"
        },
        "outputId": "d56949cc-eacf-431b-9c00-e4b013b2124b"
      },
      "execution_count": 56,
      "outputs": [
        {
          "output_type": "stream",
          "name": "stdout",
          "text": [
            "942/942 [==============================] - 10s 11ms/step - loss: 0.5071 - accuracy: 0.8124\n"
          ]
        },
        {
          "output_type": "execute_result",
          "data": {
            "text/plain": [
              "[0.5071230530738831, 0.812410831451416]"
            ]
          },
          "metadata": {},
          "execution_count": 56
        }
      ]
    },
    {
      "cell_type": "code",
      "source": [
        "model_3_pred_probs = model_3.predict(test_dataset)\n",
        "model_3_pred_probs"
      ],
      "metadata": {
        "id": "eUAOyZ5hQ2Vb",
        "colab": {
          "base_uri": "https://localhost:8080/"
        },
        "outputId": "16780a0e-1d22-455e-f936-b1f2be7f2de4"
      },
      "execution_count": 57,
      "outputs": [
        {
          "output_type": "stream",
          "name": "stdout",
          "text": [
            "942/942 [==============================] - 9s 10ms/step\n"
          ]
        },
        {
          "output_type": "execute_result",
          "data": {
            "text/plain": [
              "array([[5.01060843e-01, 1.05535015e-01, 5.54033779e-02, 3.23741108e-01,\n",
              "        1.42597370e-02],\n",
              "       [1.05059184e-02, 1.45370921e-03, 9.52107966e-01, 8.74051265e-03,\n",
              "        2.71919295e-02],\n",
              "       [1.80903135e-03, 2.80111306e-03, 9.63581383e-01, 1.22129067e-03,\n",
              "        3.05872206e-02],\n",
              "       ...,\n",
              "       [9.40368918e-04, 1.99960694e-02, 2.19293963e-03, 2.60069559e-04,\n",
              "        9.76610541e-01],\n",
              "       [2.17240979e-03, 3.41018625e-02, 9.37262736e-03, 3.50584713e-04,\n",
              "        9.54002500e-01],\n",
              "       [1.26097202e-02, 8.87533009e-01, 1.79681592e-02, 4.90411092e-03,\n",
              "        7.69849792e-02]], dtype=float32)"
            ]
          },
          "metadata": {},
          "execution_count": 57
        }
      ]
    },
    {
      "cell_type": "code",
      "source": [
        "model_3_preds = np.argmax(model_3_pred_probs, axis=1)\n",
        "model_3_preds"
      ],
      "metadata": {
        "colab": {
          "base_uri": "https://localhost:8080/"
        },
        "id": "LWQ7EHGuFRjj",
        "outputId": "5cd220b5-e7e4-49e6-bb66-0f4c3aa1171f"
      },
      "execution_count": 58,
      "outputs": [
        {
          "output_type": "execute_result",
          "data": {
            "text/plain": [
              "array([0, 2, 2, ..., 4, 4, 1])"
            ]
          },
          "metadata": {},
          "execution_count": 58
        }
      ]
    },
    {
      "cell_type": "code",
      "source": [
        "model_3_results = calculate_results(test_labels_encoded,\n",
        "                                    model_3_preds)\n",
        "model_3_results"
      ],
      "metadata": {
        "id": "lteO7tfzT7DA",
        "colab": {
          "base_uri": "https://localhost:8080/"
        },
        "outputId": "2dce0eae-d401-4c1e-e755-c1c842f6641b"
      },
      "execution_count": 59,
      "outputs": [
        {
          "output_type": "execute_result",
          "data": {
            "text/plain": [
              "{'accuracy': 81.24108179857309,\n",
              " 'precision': 0.8217078169797178,\n",
              " 'recall': 0.8124108179857309,\n",
              " 'f1': 0.8141647558785272}"
            ]
          },
          "metadata": {},
          "execution_count": 59
        }
      ]
    },
    {
      "cell_type": "markdown",
      "source": [
        "## Model 4 : Conv1D with char embedding"
      ],
      "metadata": {
        "id": "44UaDnQ6Olhp"
      }
    },
    {
      "cell_type": "code",
      "source": [
        "def split_chars(text):\n",
        "  return \" \".join(list(text))"
      ],
      "metadata": {
        "id": "ZCt6ObdAv1T0"
      },
      "execution_count": 60,
      "outputs": []
    },
    {
      "cell_type": "code",
      "source": [
        "split_chars(random_training_sentence)"
      ],
      "metadata": {
        "colab": {
          "base_uri": "https://localhost:8080/",
          "height": 52
        },
        "id": "FxVyWnxqwFgT",
        "outputId": "cc7af0bc-da51-4453-9c11-ffc26bc24abd"
      },
      "execution_count": 61,
      "outputs": [
        {
          "output_type": "execute_result",
          "data": {
            "text/plain": [
              "'m a n u a l   t h r o m b u s   a s p i r a t i o n   (   t a   )   i s   e f f e c t i v e   t o   r e d u c e   t h e   t h r o m b u s   b u r d e n   d u r i n g   p r i m a r y   p e r c u t a n e o u s   c o r o n a r y   i n t e r v e n t i o n   f o r   s t - e l e v a t i o n   m y o c a r d i a l   i n f a r c t i o n   .'"
            ],
            "application/vnd.google.colaboratory.intrinsic+json": {
              "type": "string"
            }
          },
          "metadata": {},
          "execution_count": 61
        }
      ]
    },
    {
      "cell_type": "code",
      "source": [
        "train_chars = [split_chars(sentence) for sentence in train_sentences]\n",
        "val_chars = [split_chars(sentence) for sentence in val_sentences]\n",
        "test_chars = [split_chars(sentence) for sentence in test_sentences]\n",
        "print(train_chars[0])"
      ],
      "metadata": {
        "colab": {
          "base_uri": "https://localhost:8080/"
        },
        "id": "q8Ruz5SCwI3V",
        "outputId": "0907de9a-1f57-4e10-e610-bfc5c642b4e0"
      },
      "execution_count": 62,
      "outputs": [
        {
          "output_type": "stream",
          "name": "stdout",
          "text": [
            "t o   i n v e s t i g a t e   t h e   e f f i c a c y   o f   @   w e e k s   o f   d a i l y   l o w - d o s e   o r a l   p r e d n i s o l o n e   i n   i m p r o v i n g   p a i n   ,   m o b i l i t y   ,   a n d   s y s t e m i c   l o w - g r a d e   i n f l a m m a t i o n   i n   t h e   s h o r t   t e r m   a n d   w h e t h e r   t h e   e f f e c t   w o u l d   b e   s u s t a i n e d   a t   @   w e e k s   i n   o l d e r   a d u l t s   w i t h   m o d e r a t e   t o   s e v e r e   k n e e   o s t e o a r t h r i t i s   (   o a   )   .\n"
          ]
        }
      ]
    },
    {
      "cell_type": "code",
      "source": [
        "char_lens = [len(sentence) for sentence in train_sentences]\n",
        "mean_char_len = np.mean(char_lens)\n",
        "mean_char_len"
      ],
      "metadata": {
        "colab": {
          "base_uri": "https://localhost:8080/"
        },
        "id": "rwKvPNzYwjYk",
        "outputId": "1ec227a4-3ad9-485a-aaad-8ab7164a1826"
      },
      "execution_count": 63,
      "outputs": [
        {
          "output_type": "execute_result",
          "data": {
            "text/plain": [
              "149.3662574983337"
            ]
          },
          "metadata": {},
          "execution_count": 63
        }
      ]
    },
    {
      "cell_type": "code",
      "source": [
        "# Check the distribution of our sequences at character-level\n",
        "import matplotlib.pyplot as plt\n",
        "plt.hist(char_lens, bins=7);"
      ],
      "metadata": {
        "colab": {
          "base_uri": "https://localhost:8080/",
          "height": 265
        },
        "id": "pE9YdXjax2lb",
        "outputId": "c798bd2b-8a69-45b1-c5fe-fdb7697d71a6"
      },
      "execution_count": 64,
      "outputs": [
        {
          "output_type": "display_data",
          "data": {
            "text/plain": [
              "<Figure size 432x288 with 1 Axes>"
            ],
            "image/png": "[encoded data removed]"
          },
          "metadata": {
            "needs_background": "light"
          }
        }
      ]
    },
    {
      "cell_type": "code",
      "source": [
        "output_seq_char_len = int(np.percentile(char_lens, 95))\n",
        "output_seq_char_len"
      ],
      "metadata": {
        "colab": {
          "base_uri": "https://localhost:8080/"
        },
        "id": "pKjalmOIx6j2",
        "outputId": "8a0fba80-9960-44aa-fde5-a759f48d3844"
      },
      "execution_count": 65,
      "outputs": [
        {
          "output_type": "execute_result",
          "data": {
            "text/plain": [
              "290"
            ]
          },
          "metadata": {},
          "execution_count": 65
        }
      ]
    },
    {
      "cell_type": "code",
      "source": [
        "import string\n",
        "alphabet = string.ascii_lowercase + string.digits + string.punctuation\n",
        "alphabet"
      ],
      "metadata": {
        "colab": {
          "base_uri": "https://localhost:8080/",
          "height": 35
        },
        "id": "2prFanV0x9rL",
        "outputId": "3c136534-775e-408d-8af4-16755d25a19b"
      },
      "execution_count": 66,
      "outputs": [
        {
          "output_type": "execute_result",
          "data": {
            "text/plain": [
              "'abcdefghijklmnopqrstuvwxyz0123456789!\"#$%&\\'()*+,-./:;<=>?@[\\\\]^_`{|}~'"
            ],
            "application/vnd.google.colaboratory.intrinsic+json": {
              "type": "string"
            }
          },
          "metadata": {},
          "execution_count": 66
        }
      ]
    },
    {
      "cell_type": "code",
      "source": [
        "NUM_CHAR_TOKENS = len(alphabet) + 2 # num characters in alphabet + space + OOV token\n",
        "char_vectorizer = TextVectorization(max_tokens=NUM_CHAR_TOKENS,  \n",
        "                                    output_sequence_length=output_seq_char_len,\n",
        "                                    standardize=\"lower_and_strip_punctuation\",\n",
        "                                    name=\"char_vectorizer\")\n",
        "\n",
        "# Adapt character vectorizer to training characters\n",
        "char_vectorizer.adapt(train_chars)"
      ],
      "metadata": {
        "id": "FQ04BkcVyHXk"
      },
      "execution_count": 67,
      "outputs": []
    },
    {
      "cell_type": "code",
      "source": [
        "char_vocab = char_vectorizer.get_vocabulary()\n",
        "print(f\"Number of different characters in character vocab: {len(char_vocab)}\")\n",
        "print(f\"5 most common characters: {char_vocab[:5]}\")\n",
        "print(f\"5 least common characters: {char_vocab[-5:]}\")"
      ],
      "metadata": {
        "colab": {
          "base_uri": "https://localhost:8080/"
        },
        "id": "-7e4pkJNyQty",
        "outputId": "c6f8e373-3e00-4207-d9ea-523b9589f325"
      },
      "execution_count": 68,
      "outputs": [
        {
          "output_type": "stream",
          "name": "stdout",
          "text": [
            "Number of different characters in character vocab: 28\n",
            "5 most common characters: ['', '[UNK]', 'e', 't', 'i']\n",
            "5 least common characters: ['k', 'x', 'z', 'q', 'j']\n"
          ]
        }
      ]
    },
    {
      "cell_type": "code",
      "source": [
        "random_train_chars = random.choice(train_chars)\n",
        "print(f\"Charified text:\\n{random_train_chars}\")\n",
        "print(f\"\\nLength of chars: {len(random_train_chars.split())}\")\n",
        "vectorized_chars = char_vectorizer([random_train_chars])\n",
        "print(f\"\\nVectorized chars:\\n{vectorized_chars}\")\n",
        "print(f\"\\nLength of vectorized chars: {len(vectorized_chars[0])}\")"
      ],
      "metadata": {
        "colab": {
          "base_uri": "https://localhost:8080/"
        },
        "id": "ne0s9F3myVYC",
        "outputId": "04cc66ac-1a00-4c18-b00c-e2a251669b56"
      },
      "execution_count": 69,
      "outputs": [
        {
          "output_type": "stream",
          "name": "stdout",
          "text": [
            "Charified text:\n",
            "p a t i e n t s   w i t h   h y p e r k a l e m i a   w h o   r e c e i v e d   z s - @   ,   a s   c o m p a r e d   w i t h   t h o s e   w h o   r e c e i v e d   p l a c e b o   ,   h a d   a   s i g n i f i c a n t   r e d u c t i o n   i n   p o t a s s i u m   l e v e l s   a t   @   h o u r s   ,   w i t h   n o r m o k a l e m i a   m a i n t a i n e d   d u r i n g   @   d a y s   o f   m a i n t e n a n c e   t h e r a p y   .\n",
            "\n",
            "Length of chars: 186\n",
            "\n",
            "Vectorized chars:\n",
            "[[14  5  3  4  2  6  3  9 20  4  3 13 13 19 14  2  8 23  5 12  2 15  4  5\n",
            "  20 13  7  8  2 11  2  4 21  2 10 25  9  5  9 11  7 15 14  5  8  2 10 20\n",
            "   4  3 13  3 13  7  9  2 20 13  7  8  2 11  2  4 21  2 10 14 12  5 11  2\n",
            "  22  7 13  5 10  5  9  4 18  6  4 17  4 11  5  6  3  8  2 10 16 11  3  4\n",
            "   7  6  4  6 14  7  3  5  9  9  4 16 15 12  2 21  2 12  9  5  3 13  7 16\n",
            "   8  9 20  4  3 13  6  7  8 15  7 23  5 12  2 15  4  5 15  5  4  6  3  5\n",
            "   4  6  2 10 10 16  8  4  6 18 10  5 19  9  7 17 15  5  4  6  3  2  6  5\n",
            "   6 11  2  3 13  2  8  5 14 19  0  0  0  0  0  0  0  0  0  0  0  0  0  0\n",
            "   0  0  0  0  0  0  0  0  0  0  0  0  0  0  0  0  0  0  0  0  0  0  0  0\n",
            "   0  0  0  0  0  0  0  0  0  0  0  0  0  0  0  0  0  0  0  0  0  0  0  0\n",
            "   0  0  0  0  0  0  0  0  0  0  0  0  0  0  0  0  0  0  0  0  0  0  0  0\n",
            "   0  0  0  0  0  0  0  0  0  0  0  0  0  0  0  0  0  0  0  0  0  0  0  0\n",
            "   0  0]]\n",
            "\n",
            "Length of vectorized chars: 290\n"
          ]
        }
      ]
    },
    {
      "cell_type": "code",
      "source": [
        "char_embed = layers.Embedding(input_dim=NUM_CHAR_TOKENS, # number of different characters\n",
        "                              output_dim=25, # embedding dimension of each character (same as Figure 1 in https://arxiv.org/pdf/1612.05251.pdf)\n",
        "                              mask_zero=False, # don't use masks (this messes up model_5 if set to True)\n",
        "                              name=\"char_embed\")\n",
        "\n",
        "# Test out character embedding layer\n",
        "print(f\"Charified text (before vectorization and embedding):\\n{random_train_chars}\\n\")\n",
        "char_embed_example = char_embed(char_vectorizer([random_train_chars]))\n",
        "print(f\"Embedded chars (after vectorization and embedding):\\n{char_embed_example}\\n\")\n",
        "print(f\"Character embedding shape: {char_embed_example.shape}\")"
      ],
      "metadata": {
        "colab": {
          "base_uri": "https://localhost:8080/"
        },
        "id": "2vQlptcOyXhs",
        "outputId": "aed5ba39-4327-4246-8d5c-85e1c7fed224"
      },
      "execution_count": 70,
      "outputs": [
        {
          "output_type": "stream",
          "name": "stdout",
          "text": [
            "Charified text (before vectorization and embedding):\n",
            "p a t i e n t s   w i t h   h y p e r k a l e m i a   w h o   r e c e i v e d   z s - @   ,   a s   c o m p a r e d   w i t h   t h o s e   w h o   r e c e i v e d   p l a c e b o   ,   h a d   a   s i g n i f i c a n t   r e d u c t i o n   i n   p o t a s s i u m   l e v e l s   a t   @   h o u r s   ,   w i t h   n o r m o k a l e m i a   m a i n t a i n e d   d u r i n g   @   d a y s   o f   m a i n t e n a n c e   t h e r a p y   .\n",
            "\n",
            "Embedded chars (after vectorization and embedding):\n",
            "[[[ 2.1726582e-02 -3.1236589e-02  1.3209879e-05 ...  2.9121626e-02\n",
            "    1.4143553e-02 -4.5409467e-02]\n",
            "  [ 3.2732252e-02 -3.9756726e-02  2.4928857e-02 ... -4.3897595e-02\n",
            "   -4.2295646e-02 -3.2268845e-02]\n",
            "  [-6.8938024e-03  3.3916164e-02 -6.1995387e-03 ... -1.2569800e-03\n",
            "    2.8029833e-02 -3.8571656e-02]\n",
            "  ...\n",
            "  [ 3.9061103e-02 -2.0342756e-02 -3.1584181e-02 ...  9.6036904e-03\n",
            "   -9.2288032e-03  1.8002484e-02]\n",
            "  [ 3.9061103e-02 -2.0342756e-02 -3.1584181e-02 ...  9.6036904e-03\n",
            "   -9.2288032e-03  1.8002484e-02]\n",
            "  [ 3.9061103e-02 -2.0342756e-02 -3.1584181e-02 ...  9.6036904e-03\n",
            "   -9.2288032e-03  1.8002484e-02]]]\n",
            "\n",
            "Character embedding shape: (1, 290, 25)\n"
          ]
        }
      ]
    },
    {
      "cell_type": "markdown",
      "source": [
        "### Nadam optimizer beats the plain old adam ([Nadam: INCORPORATING NESTEROV MOMENTUM INTO ADAM](https://www.google.com/url?sa=t&rct=j&q=&esrc=s&source=web&cd=&cad=rja&uact=8&ved=2ahUKEwjq2sOynZr7AhVsxQIHHWJaAu4QFnoECBMQAQ&url=https%3A%2F%2Fopenreview.net%2Fpdf%2FOM0jvwB8jIp57ZJjtNEZ.pdf&usg=AOvVaw0iYSzFfzEXwraAE8RXxVQS))"
      ],
      "metadata": {
        "id": "b-kZ8l_3Ssfn"
      }
    },
    {
      "cell_type": "code",
      "source": [
        "inputs = layers.Input(shape=(1,), dtype=\"string\")\n",
        "char_vectors = char_vectorizer(inputs)\n",
        "char_embeddings = char_embed(char_vectors)\n",
        "x = layers.Conv1D(64, kernel_size=5, padding=\"same\", activation=\"selu\",kernel_initializer=\"lecun_normal\")(char_embeddings)\n",
        "x = layers.GlobalMaxPool1D()(x)\n",
        "outputs = layers.Dense(num_classes, activation=\"softmax\")(x)\n",
        "model_4 = tf.keras.Model(inputs=inputs,\n",
        "                         outputs=outputs,\n",
        "                         name=\"model_4_conv1D_char_embedding\")\n",
        "\n",
        "# Compile the model\n",
        "model_4.compile(loss=\"categorical_crossentropy\",\n",
        "                optimizer=tf.keras.optimizers.Nadam(),\n",
        "                metrics=[\"accuracy\"])"
      ],
      "metadata": {
        "id": "9iWQbT6G1HO-"
      },
      "execution_count": 71,
      "outputs": []
    },
    {
      "cell_type": "code",
      "source": [
        "model_4.summary()"
      ],
      "metadata": {
        "colab": {
          "base_uri": "https://localhost:8080/"
        },
        "id": "JwGL28Fd1MhZ",
        "outputId": "64609fe0-a1b9-4105-a332-c9458f8f8ffd"
      },
      "execution_count": 72,
      "outputs": [
        {
          "output_type": "stream",
          "name": "stdout",
          "text": [
            "Model: \"model_4_conv1D_char_embedding\"\n",
            "_________________________________________________________________\n",
            " Layer (type)                Output Shape              Param #   \n",
            "=================================================================\n",
            " input_4 (InputLayer)        [(None, 1)]               0         \n",
            "                                                                 \n",
            " char_vectorizer (TextVector  (None, 290)              0         \n",
            " ization)                                                        \n",
            "                                                                 \n",
            " char_embed (Embedding)      (None, 290, 25)           1750      \n",
            "                                                                 \n",
            " conv1d_1 (Conv1D)           (None, 290, 64)           8064      \n",
            "                                                                 \n",
            " global_max_pooling1d (Globa  (None, 64)               0         \n",
            " lMaxPooling1D)                                                  \n",
            "                                                                 \n",
            " dense_5 (Dense)             (None, 5)                 325       \n",
            "                                                                 \n",
            "=================================================================\n",
            "Total params: 10,139\n",
            "Trainable params: 10,139\n",
            "Non-trainable params: 0\n",
            "_________________________________________________________________\n"
          ]
        }
      ]
    },
    {
      "cell_type": "code",
      "source": [
        "train_char_dataset = tf.data.Dataset.from_tensor_slices((train_chars, train_labels_one_hot)).batch(32).prefetch(tf.data.AUTOTUNE)\n",
        "val_char_dataset = tf.data.Dataset.from_tensor_slices((val_chars, val_labels_one_hot)).batch(32).prefetch(tf.data.AUTOTUNE)\n",
        "test_char_dataset = tf.data.Dataset.from_tensor_slices((test_chars, test_labels_one_hot)).batch(32).prefetch(tf.data.AUTOTUNE)"
      ],
      "metadata": {
        "id": "nYunaa2g1RDB"
      },
      "execution_count": 73,
      "outputs": []
    },
    {
      "cell_type": "code",
      "source": [
        "model_4_history = model_4.fit(train_char_dataset,\n",
        "                              # steps_per_epoch=int(0.2*len(train_char_dataset)),\n",
        "                              epochs=10,\n",
        "                              validation_data=val_char_dataset)\n",
        "                              # validation_steps=int(0.2*len(val_char_dataset)))"
      ],
      "metadata": {
        "colab": {
          "base_uri": "https://localhost:8080/"
        },
        "id": "xuxXtLgd1XKT",
        "outputId": "0b14e5b5-4136-439a-e480-a8c5e0db2793"
      },
      "execution_count": 74,
      "outputs": [
        {
          "output_type": "stream",
          "name": "stdout",
          "text": [
            "Epoch 1/10\n",
            "5627/5627 [==============================] - 33s 6ms/step - loss: 0.8846 - accuracy: 0.6547 - val_loss: 0.7751 - val_accuracy: 0.7018\n",
            "Epoch 2/10\n",
            "5627/5627 [==============================] - 33s 6ms/step - loss: 0.7399 - accuracy: 0.7181 - val_loss: 0.7424 - val_accuracy: 0.7174\n",
            "Epoch 3/10\n",
            "5627/5627 [==============================] - 33s 6ms/step - loss: 0.7084 - accuracy: 0.7321 - val_loss: 0.7230 - val_accuracy: 0.7245\n",
            "Epoch 4/10\n",
            "5627/5627 [==============================] - 34s 6ms/step - loss: 0.6895 - accuracy: 0.7394 - val_loss: 0.7070 - val_accuracy: 0.7319\n",
            "Epoch 5/10\n",
            "5627/5627 [==============================] - 32s 6ms/step - loss: 0.6735 - accuracy: 0.7460 - val_loss: 0.6986 - val_accuracy: 0.7346\n",
            "Epoch 6/10\n",
            "5627/5627 [==============================] - 32s 6ms/step - loss: 0.6610 - accuracy: 0.7515 - val_loss: 0.6903 - val_accuracy: 0.7382\n",
            "Epoch 7/10\n",
            "5627/5627 [==============================] - 32s 6ms/step - loss: 0.6527 - accuracy: 0.7545 - val_loss: 0.6823 - val_accuracy: 0.7417\n",
            "Epoch 8/10\n",
            "5627/5627 [==============================] - 32s 6ms/step - loss: 0.6463 - accuracy: 0.7570 - val_loss: 0.6780 - val_accuracy: 0.7429\n",
            "Epoch 9/10\n",
            "5627/5627 [==============================] - 33s 6ms/step - loss: 0.6416 - accuracy: 0.7587 - val_loss: 0.6730 - val_accuracy: 0.7439\n",
            "Epoch 10/10\n",
            "5627/5627 [==============================] - 32s 6ms/step - loss: 0.6373 - accuracy: 0.7602 - val_loss: 0.6707 - val_accuracy: 0.7445\n"
          ]
        }
      ]
    },
    {
      "cell_type": "code",
      "source": [
        "model_4.evaluate(test_char_dataset)"
      ],
      "metadata": {
        "colab": {
          "base_uri": "https://localhost:8080/"
        },
        "id": "CtKwI4u41a40",
        "outputId": "850740fc-f455-48ea-ac61-4c1210f93113"
      },
      "execution_count": 75,
      "outputs": [
        {
          "output_type": "stream",
          "name": "stdout",
          "text": [
            "942/942 [==============================] - 3s 4ms/step - loss: 0.6907 - accuracy: 0.7390\n"
          ]
        },
        {
          "output_type": "execute_result",
          "data": {
            "text/plain": [
              "[0.6907488703727722, 0.7390409708023071]"
            ]
          },
          "metadata": {},
          "execution_count": 75
        }
      ]
    },
    {
      "cell_type": "code",
      "source": [
        "model_4_pred_probs = model_4.predict(test_char_dataset)\n",
        "model_4_pred_probs"
      ],
      "metadata": {
        "colab": {
          "base_uri": "https://localhost:8080/"
        },
        "id": "zr0cXi4T13B7",
        "outputId": "0c6c4d85-05e0-42b9-c5cd-07210a609734"
      },
      "execution_count": 76,
      "outputs": [
        {
          "output_type": "stream",
          "name": "stdout",
          "text": [
            "942/942 [==============================] - 2s 3ms/step\n"
          ]
        },
        {
          "output_type": "execute_result",
          "data": {
            "text/plain": [
              "array([[4.7214035e-02, 1.2207621e-01, 9.2665754e-02, 2.4497354e-02,\n",
              "        7.1354657e-01],\n",
              "       [4.3422200e-02, 2.3062328e-02, 7.8129405e-01, 1.8077768e-02,\n",
              "        1.3414365e-01],\n",
              "       [2.1670863e-04, 3.1110318e-03, 7.7439672e-01, 1.7601576e-04,\n",
              "        2.2209948e-01],\n",
              "       ...,\n",
              "       [1.0792373e-05, 4.3763863e-03, 4.1248638e-04, 3.4135667e-06,\n",
              "        9.9519688e-01],\n",
              "       [9.5405127e-04, 3.0363809e-02, 7.6611647e-03, 2.5824038e-04,\n",
              "        9.6076274e-01],\n",
              "       [3.6433492e-02, 6.4234668e-01, 5.7084518e-03, 9.0846233e-03,\n",
              "        3.0642679e-01]], dtype=float32)"
            ]
          },
          "metadata": {},
          "execution_count": 76
        }
      ]
    },
    {
      "cell_type": "code",
      "source": [
        "model_4_preds = tf.argmax(model_4_pred_probs, axis=1)\n",
        "model_4_preds"
      ],
      "metadata": {
        "colab": {
          "base_uri": "https://localhost:8080/"
        },
        "id": "mZ3wG4r616B_",
        "outputId": "c8f50da3-dd18-42d0-c8a0-f04b61516535"
      },
      "execution_count": 77,
      "outputs": [
        {
          "output_type": "execute_result",
          "data": {
            "text/plain": [
              "<tf.Tensor: shape=(30135,), dtype=int64, numpy=array([4, 2, 2, ..., 4, 4, 1])>"
            ]
          },
          "metadata": {},
          "execution_count": 77
        }
      ]
    },
    {
      "cell_type": "code",
      "source": [
        "model_4_results = calculate_results(y_true=test_labels_encoded,\n",
        "                                        y_pred=model_4_preds)\n",
        "model_4_results"
      ],
      "metadata": {
        "colab": {
          "base_uri": "https://localhost:8080/"
        },
        "id": "hu7bE7LF1-A8",
        "outputId": "66447c2e-92c4-48d3-c3d0-bbc65adee05d"
      },
      "execution_count": 78,
      "outputs": [
        {
          "output_type": "execute_result",
          "data": {
            "text/plain": [
              "{'accuracy': 73.90409822465571,\n",
              " 'precision': 0.7399438883959777,\n",
              " 'recall': 0.7390409822465571,\n",
              " 'f1': 0.7337697355327464}"
            ]
          },
          "metadata": {},
          "execution_count": 78
        }
      ]
    },
    {
      "cell_type": "markdown",
      "source": [
        "## Model 5 lstm "
      ],
      "metadata": {
        "id": "jBXbjOV4ua8N"
      }
    },
    {
      "cell_type": "markdown",
      "source": [
        "Learning to store information over extended time intervals via recurrent backpropagation takes a very long time , mostly due to insufficient, decaying error back flow. we address it by introducing a novel, efficient, gradient-based method called \"Long Short-Term Memory.\".[Hochreiter, S., & Schmidhuber, J\"urgen. (1997). Long short-term memory. Neural Computation, 9(8), 1735–1780.](http://www.bioinf.jku.at/publications/older/2604.pdf)"
      ],
      "metadata": {
        "id": "nnv02AziSUzm"
      }
    },
    {
      "cell_type": "code",
      "source": [
        "# LSTM MODEL\n",
        "inputs = layers.Input(shape=(1,), dtype=tf.string)\n",
        "text_vector = text_vectorizer(inputs)\n",
        "token_embeding = token_embed(text_vector)\n",
        "x = layers.LSTM(128,activation=\"selu\",kernel_initializer=\"lecun_normal\", return_sequences=True)(token_embeding)\n",
        "x = layers.Dropout(0.3)(x)\n",
        "x = layers.LSTM(128,activation=\"selu\",kernel_initializer=\"lecun_normal\")(x)\n",
        "outputs = layers.Dense(num_classes, activation=\"softmax\")(x)\n",
        "model_5 = tf.keras.models.Model(inputs, outputs,name=\"model_5_LSTM\")\n",
        "model_5.summary()\n"
      ],
      "metadata": {
        "colab": {
          "base_uri": "https://localhost:8080/"
        },
        "id": "wLD0JY_MUFyk",
        "outputId": "189030a3-5564-4871-a1ba-9a5e83644873"
      },
      "execution_count": 79,
      "outputs": [
        {
          "output_type": "stream",
          "name": "stderr",
          "text": [
            "WARNING:tensorflow:Layer lstm will not use cuDNN kernels since it doesn't meet the criteria. It will use a generic GPU kernel as fallback when running on GPU.\n",
            "WARNING:tensorflow:Layer lstm_1 will not use cuDNN kernels since it doesn't meet the criteria. It will use a generic GPU kernel as fallback when running on GPU.\n"
          ]
        },
        {
          "output_type": "stream",
          "name": "stdout",
          "text": [
            "Model: \"model_5_LSTM\"\n",
            "_________________________________________________________________\n",
            " Layer (type)                Output Shape              Param #   \n",
            "=================================================================\n",
            " input_5 (InputLayer)        [(None, 1)]               0         \n",
            "                                                                 \n",
            " text_vectorization (TextVec  (None, 55)               0         \n",
            " torization)                                                     \n",
            "                                                                 \n",
            " embedding (Embedding)       (None, 55, 256)           16599296  \n",
            "                                                                 \n",
            " lstm (LSTM)                 (None, 55, 128)           197120    \n",
            "                                                                 \n",
            " dropout (Dropout)           (None, 55, 128)           0         \n",
            "                                                                 \n",
            " lstm_1 (LSTM)               (None, 128)               131584    \n",
            "                                                                 \n",
            " dense_6 (Dense)             (None, 5)                 645       \n",
            "                                                                 \n",
            "=================================================================\n",
            "Total params: 16,928,645\n",
            "Trainable params: 16,928,645\n",
            "Non-trainable params: 0\n",
            "_________________________________________________________________\n"
          ]
        }
      ]
    },
    {
      "cell_type": "code",
      "source": [
        "# Lets compile the model\n",
        "model_5.compile(loss=\"categorical_crossentropy\",\n",
        "                optimizer=tf.keras.optimizers.Nadam(),\n",
        "                metrics=\"accuracy\")"
      ],
      "metadata": {
        "id": "EI0fdpYVXvze"
      },
      "execution_count": 80,
      "outputs": []
    },
    {
      "cell_type": "code",
      "source": [
        "model_5.fit(train_dataset,\n",
        "            steps_per_epoch= int(0.05*len(train_dataset)),\n",
        "            epochs=5, \n",
        "            validation_data= val_dataset,\n",
        "            validation_steps = int(0.05*len(val_dataset)))"
      ],
      "metadata": {
        "colab": {
          "base_uri": "https://localhost:8080/"
        },
        "id": "F5gFsYQwYguI",
        "outputId": "35ad644a-c997-4b18-d724-6dab0b779063"
      },
      "execution_count": 81,
      "outputs": [
        {
          "output_type": "stream",
          "name": "stdout",
          "text": [
            "Epoch 1/5\n",
            "281/281 [==============================] - 85s 291ms/step - loss: 0.6381 - accuracy: 0.7687 - val_loss: 0.5681 - val_accuracy: 0.7872\n",
            "Epoch 2/5\n",
            "281/281 [==============================] - 83s 296ms/step - loss: 0.4784 - accuracy: 0.8264 - val_loss: 0.5941 - val_accuracy: 0.7919\n",
            "Epoch 3/5\n",
            "281/281 [==============================] - 81s 289ms/step - loss: 0.4672 - accuracy: 0.8316 - val_loss: 0.5668 - val_accuracy: 0.7906\n",
            "Epoch 4/5\n",
            "281/281 [==============================] - 81s 289ms/step - loss: 0.5415 - accuracy: 0.8296 - val_loss: 0.5829 - val_accuracy: 0.7919\n",
            "Epoch 5/5\n",
            "281/281 [==============================] - 84s 298ms/step - loss: 0.4279 - accuracy: 0.8484 - val_loss: 0.5523 - val_accuracy: 0.7952\n"
          ]
        },
        {
          "output_type": "execute_result",
          "data": {
            "text/plain": [
              "<keras.callbacks.History at 0x7f0ddc630910>"
            ]
          },
          "metadata": {},
          "execution_count": 81
        }
      ]
    },
    {
      "cell_type": "code",
      "source": [
        "model_5.evaluate(test_dataset)"
      ],
      "metadata": {
        "colab": {
          "base_uri": "https://localhost:8080/"
        },
        "id": "HC1UuplMc0yr",
        "outputId": "21977672-64ed-40a8-974c-513bf17e801f"
      },
      "execution_count": 82,
      "outputs": [
        {
          "output_type": "stream",
          "name": "stdout",
          "text": [
            "942/942 [==============================] - 21s 22ms/step - loss: 0.5684 - accuracy: 0.7951\n"
          ]
        },
        {
          "output_type": "execute_result",
          "data": {
            "text/plain": [
              "[0.5683940649032593, 0.7950555682182312]"
            ]
          },
          "metadata": {},
          "execution_count": 82
        }
      ]
    },
    {
      "cell_type": "code",
      "source": [
        "model_5_pred_probs = model_5.predict(test_dataset)\n",
        "model_5_pred_probs"
      ],
      "metadata": {
        "colab": {
          "base_uri": "https://localhost:8080/"
        },
        "id": "1T73mdy3c-32",
        "outputId": "4259c8a2-c9d3-41e1-8cb0-0e1485483d40"
      },
      "execution_count": 83,
      "outputs": [
        {
          "output_type": "stream",
          "name": "stdout",
          "text": [
            "942/942 [==============================] - 20s 21ms/step\n"
          ]
        },
        {
          "output_type": "execute_result",
          "data": {
            "text/plain": [
              "array([[3.3988702e-01, 3.9600763e-02, 3.8988706e-01, 1.9098762e-01,\n",
              "        3.9637528e-02],\n",
              "       [2.6123270e-02, 3.0518037e-03, 9.2697704e-01, 8.7035140e-03,\n",
              "        3.5144355e-02],\n",
              "       [2.7474111e-03, 1.9704173e-03, 9.5707232e-01, 1.3584001e-03,\n",
              "        3.6851473e-02],\n",
              "       ...,\n",
              "       [9.3066628e-04, 2.2634169e-02, 5.8426196e-03, 5.1903323e-04,\n",
              "        9.7007352e-01],\n",
              "       [1.8145900e-03, 3.0912442e-02, 1.7965833e-02, 9.1257284e-04,\n",
              "        9.4839460e-01],\n",
              "       [1.0901321e-02, 5.2629924e-01, 1.3007339e-02, 2.7348530e-03,\n",
              "        4.4705722e-01]], dtype=float32)"
            ]
          },
          "metadata": {},
          "execution_count": 83
        }
      ]
    },
    {
      "cell_type": "code",
      "source": [
        "model_5_preds = np.argmax(model_5_pred_probs, axis=1)\n",
        "model_5_preds"
      ],
      "metadata": {
        "colab": {
          "base_uri": "https://localhost:8080/"
        },
        "id": "f1hrZlpCdFK0",
        "outputId": "443c4950-4293-497f-ae84-dd3e9971b04a"
      },
      "execution_count": 84,
      "outputs": [
        {
          "output_type": "execute_result",
          "data": {
            "text/plain": [
              "array([2, 2, 2, ..., 4, 4, 1])"
            ]
          },
          "metadata": {},
          "execution_count": 84
        }
      ]
    },
    {
      "cell_type": "code",
      "source": [
        "model_5_results = calculate_results(test_labels_encoded,\n",
        "                                    model_5_preds)\n",
        "model_5_results"
      ],
      "metadata": {
        "colab": {
          "base_uri": "https://localhost:8080/"
        },
        "id": "lK1UZdMkdhTE",
        "outputId": "d52392fe-9675-44bf-826e-873533c91e2c"
      },
      "execution_count": 85,
      "outputs": [
        {
          "output_type": "execute_result",
          "data": {
            "text/plain": [
              "{'accuracy': 79.50555832088934,\n",
              " 'precision': 0.7934852030338744,\n",
              " 'recall': 0.7950555832088934,\n",
              " 'f1': 0.7939607542116761}"
            ]
          },
          "metadata": {},
          "execution_count": 85
        }
      ]
    },
    {
      "cell_type": "markdown",
      "source": [
        "## Model 6 biderectional lstm "
      ],
      "metadata": {
        "id": "x0pU0PXUScrv"
      }
    },
    {
      "cell_type": "markdown",
      "source": [
        "In the first part of this paper, a regular recurrent\n",
        "neural network (RNN) is extended to a bidirectional recurrent\n",
        "neural network (BRNN). The BRNN can be trained without\n",
        "the limitation of using input information just up to a preset\n",
        "future frame. This is accomplished by training it simultaneously\n",
        "in positive and negative time direction. Structure and training\n",
        "procedure of the proposed network are explained. [Mike Schuster & Kuldip K. Paliwal(1997), Bidirectional Recurrent Neural Networks](https://deeplearning.cs.cmu.edu/F20/document/readings/Bidirectional%20Recurrent%20Neural%20Networks.pdf)"
      ],
      "metadata": {
        "id": "Si9dwL24SeOO"
      }
    },
    {
      "cell_type": "code",
      "source": [
        "## Bidirectional LSTM model\n",
        "inputs = layers.Input(shape=(1,), dtype=tf.string)\n",
        "text_vector = text_vectorizer(inputs)\n",
        "token_embeding = token_embed(text_vector)\n",
        "x = layers.Bidirectional(layers.LSTM(128,activation=\"selu\",kernel_initializer=\"lecun_normal\", return_sequences=True))(token_embeding)\n",
        "x = layers.Dropout(0.3)(x)\n",
        "x = layers.Bidirectional(layers.LSTM(128,activation=\"selu\",kernel_initializer=\"lecun_normal\"))(x)\n",
        "outputs = layers.Dense(num_classes, activation=\"softmax\")(x)\n",
        "model_6 = tf.keras.models.Model(inputs, outputs,name=\"model_6_Bidirectional_LSTM\")\n",
        "model_6.summary()\n"
      ],
      "metadata": {
        "colab": {
          "base_uri": "https://localhost:8080/"
        },
        "id": "mt24jtHPT9U7",
        "outputId": "8633d3a9-9d17-4d9d-a082-8991b846616d"
      },
      "execution_count": 86,
      "outputs": [
        {
          "output_type": "stream",
          "name": "stderr",
          "text": [
            "WARNING:tensorflow:Layer lstm_2 will not use cuDNN kernels since it doesn't meet the criteria. It will use a generic GPU kernel as fallback when running on GPU.\n",
            "WARNING:tensorflow:Layer lstm_2 will not use cuDNN kernels since it doesn't meet the criteria. It will use a generic GPU kernel as fallback when running on GPU.\n",
            "WARNING:tensorflow:Layer lstm_2 will not use cuDNN kernels since it doesn't meet the criteria. It will use a generic GPU kernel as fallback when running on GPU.\n",
            "WARNING:tensorflow:Layer lstm_3 will not use cuDNN kernels since it doesn't meet the criteria. It will use a generic GPU kernel as fallback when running on GPU.\n",
            "WARNING:tensorflow:Layer lstm_3 will not use cuDNN kernels since it doesn't meet the criteria. It will use a generic GPU kernel as fallback when running on GPU.\n",
            "WARNING:tensorflow:Layer lstm_3 will not use cuDNN kernels since it doesn't meet the criteria. It will use a generic GPU kernel as fallback when running on GPU.\n"
          ]
        },
        {
          "output_type": "stream",
          "name": "stdout",
          "text": [
            "Model: \"model_6_Bidirectional_LSTM\"\n",
            "_________________________________________________________________\n",
            " Layer (type)                Output Shape              Param #   \n",
            "=================================================================\n",
            " input_6 (InputLayer)        [(None, 1)]               0         \n",
            "                                                                 \n",
            " text_vectorization (TextVec  (None, 55)               0         \n",
            " torization)                                                     \n",
            "                                                                 \n",
            " embedding (Embedding)       (None, 55, 256)           16599296  \n",
            "                                                                 \n",
            " bidirectional (Bidirectiona  (None, 55, 256)          394240    \n",
            " l)                                                              \n",
            "                                                                 \n",
            " dropout_1 (Dropout)         (None, 55, 256)           0         \n",
            "                                                                 \n",
            " bidirectional_1 (Bidirectio  (None, 256)              394240    \n",
            " nal)                                                            \n",
            "                                                                 \n",
            " dense_7 (Dense)             (None, 5)                 1285      \n",
            "                                                                 \n",
            "=================================================================\n",
            "Total params: 17,389,061\n",
            "Trainable params: 17,389,061\n",
            "Non-trainable params: 0\n",
            "_________________________________________________________________\n"
          ]
        }
      ]
    },
    {
      "cell_type": "code",
      "source": [
        "model_6.compile(loss=\"categorical_crossentropy\",\n",
        "                optimizer=tf.keras.optimizers.Nadam(),\n",
        "                metrics=\"accuracy\")"
      ],
      "metadata": {
        "id": "GYlXV1YZVOQ2"
      },
      "execution_count": 87,
      "outputs": []
    },
    {
      "cell_type": "code",
      "source": [
        "model_6.fit(train_dataset,\n",
        "            steps_per_epoch= int(0.05*len(train_dataset)),\n",
        "            epochs=5, \n",
        "            validation_data= val_dataset,\n",
        "            validation_steps = int(0.05*len(val_dataset)))"
      ],
      "metadata": {
        "colab": {
          "base_uri": "https://localhost:8080/"
        },
        "id": "3Y1WQCdJVRcD",
        "outputId": "18d551aa-d01f-4260-c8bb-5baef43084d0"
      },
      "execution_count": 88,
      "outputs": [
        {
          "output_type": "stream",
          "name": "stdout",
          "text": [
            "Epoch 1/5\n",
            "281/281 [==============================] - 165s 567ms/step - loss: 121570.0078 - accuracy: 0.4068 - val_loss: 46690.7773 - val_accuracy: 0.3165\n",
            "Epoch 2/5\n",
            "281/281 [==============================] - 159s 565ms/step - loss: 84745.0078 - accuracy: 0.3474 - val_loss: 84115.1719 - val_accuracy: 0.3491\n",
            "Epoch 3/5\n",
            "281/281 [==============================] - 156s 555ms/step - loss: 2845404.5000 - accuracy: 0.3323 - val_loss: 254189.0625 - val_accuracy: 0.3072\n",
            "Epoch 4/5\n",
            "281/281 [==============================] - 157s 557ms/step - loss: 435311.7188 - accuracy: 0.3086 - val_loss: 580466.2500 - val_accuracy: 0.3032\n",
            "Epoch 5/5\n",
            "281/281 [==============================] - 159s 566ms/step - loss: 133423.2500 - accuracy: 0.3272 - val_loss: 68475.5391 - val_accuracy: 0.3577\n"
          ]
        },
        {
          "output_type": "execute_result",
          "data": {
            "text/plain": [
              "<keras.callbacks.History at 0x7f0c0b8cb6d0>"
            ]
          },
          "metadata": {},
          "execution_count": 88
        }
      ]
    },
    {
      "cell_type": "code",
      "source": [
        "model_6.evaluate(test_dataset)"
      ],
      "metadata": {
        "colab": {
          "base_uri": "https://localhost:8080/"
        },
        "id": "zNNj_9MLVZJk",
        "outputId": "196b4b68-7e13-4190-e7df-7c82f3c5c4ad"
      },
      "execution_count": 89,
      "outputs": [
        {
          "output_type": "stream",
          "name": "stdout",
          "text": [
            "942/942 [==============================] - 39s 42ms/step - loss: 69384.9766 - accuracy: 0.3323\n"
          ]
        },
        {
          "output_type": "execute_result",
          "data": {
            "text/plain": [
              "[69384.9765625, 0.3322714567184448]"
            ]
          },
          "metadata": {},
          "execution_count": 89
        }
      ]
    },
    {
      "cell_type": "code",
      "source": [
        "model_6_pred_probs = model_6.predict(test_dataset)\n",
        "model_6_pred_probs"
      ],
      "metadata": {
        "colab": {
          "base_uri": "https://localhost:8080/"
        },
        "id": "yC1CSOCMVeK4",
        "outputId": "7a6bc1ce-e754-42e6-fc5e-686b4918572f"
      },
      "execution_count": 90,
      "outputs": [
        {
          "output_type": "stream",
          "name": "stdout",
          "text": [
            "942/942 [==============================] - 41s 43ms/step\n"
          ]
        },
        {
          "output_type": "execute_result",
          "data": {
            "text/plain": [
              "array([[1.0000000e+00, 0.0000000e+00, 0.0000000e+00, 0.0000000e+00,\n",
              "        0.0000000e+00],\n",
              "       [0.0000000e+00, 0.0000000e+00, 1.0000000e+00, 0.0000000e+00,\n",
              "        0.0000000e+00],\n",
              "       [0.0000000e+00, 0.0000000e+00, 1.0000000e+00, 0.0000000e+00,\n",
              "        0.0000000e+00],\n",
              "       ...,\n",
              "       [0.0000000e+00, 0.0000000e+00, 0.0000000e+00, 0.0000000e+00,\n",
              "        1.0000000e+00],\n",
              "       [1.0061166e-10, 3.0111131e-22, 6.8775760e-03, 7.0354134e-10,\n",
              "        9.9312240e-01],\n",
              "       [0.0000000e+00, 0.0000000e+00, 1.0000000e+00, 0.0000000e+00,\n",
              "        0.0000000e+00]], dtype=float32)"
            ]
          },
          "metadata": {},
          "execution_count": 90
        }
      ]
    },
    {
      "cell_type": "code",
      "source": [
        "model_6_preds = np.argmax(model_6_pred_probs, axis=1)\n",
        "model_6_preds"
      ],
      "metadata": {
        "colab": {
          "base_uri": "https://localhost:8080/"
        },
        "id": "dSWtSJVPVjv-",
        "outputId": "8547002c-bd5a-455a-cb5a-0e255b7edb57"
      },
      "execution_count": 91,
      "outputs": [
        {
          "output_type": "execute_result",
          "data": {
            "text/plain": [
              "array([0, 2, 2, ..., 4, 4, 2])"
            ]
          },
          "metadata": {},
          "execution_count": 91
        }
      ]
    },
    {
      "cell_type": "code",
      "source": [
        "model_6_results = calculate_results(test_labels_encoded,\n",
        "                                    model_6_preds)\n",
        "model_6_results"
      ],
      "metadata": {
        "colab": {
          "base_uri": "https://localhost:8080/"
        },
        "id": "bTPixjSnVpdI",
        "outputId": "ac258067-eda1-40ff-e630-0a43183cad19"
      },
      "execution_count": 92,
      "outputs": [
        {
          "output_type": "execute_result",
          "data": {
            "text/plain": [
              "{'accuracy': 33.227144516343124,\n",
              " 'precision': 0.3115886785403313,\n",
              " 'recall': 0.3322714451634312,\n",
              " 'f1': 0.31281716395342346}"
            ]
          },
          "metadata": {},
          "execution_count": 92
        }
      ]
    },
    {
      "cell_type": "markdown",
      "source": [
        "## Model 7 :Transfer Learning with pretrained token embeddings + character embeddings + positional embeddings"
      ],
      "metadata": {
        "id": "pAjLW-RS2HDk"
      }
    },
    {
      "cell_type": "code",
      "source": [
        "train_df.head()"
      ],
      "metadata": {
        "colab": {
          "base_uri": "https://localhost:8080/",
          "height": 206
        },
        "id": "FHXZEbUiZlEN",
        "outputId": "bca6366b-3c8c-480a-fa7e-f52b66ae74e7"
      },
      "execution_count": 93,
      "outputs": [
        {
          "output_type": "execute_result",
          "data": {
            "text/plain": [
              "      target                                               text  line_number  \\\n",
              "0  OBJECTIVE  to investigate the efficacy of @ weeks of dail...            0   \n",
              "1    METHODS  a total of @ patients with primary knee oa wer...            1   \n",
              "2    METHODS  outcome measures included pain reduction and i...            2   \n",
              "3    METHODS  pain was assessed using the visual analog pain...            3   \n",
              "4    METHODS  secondary outcome measures included the wester...            4   \n",
              "\n",
              "   total_lines  \n",
              "0           11  \n",
              "1           11  \n",
              "2           11  \n",
              "3           11  \n",
              "4           11  "
            ],
            "text/html": [
              "\n",
              "  <div id=\"df-a29708d4-e429-45ee-b26b-76963d8c104d\">\n",
              "    <div class=\"colab-df-container\">\n",
              "      <div>\n",
              "<style scoped>\n",
              "    .dataframe tbody tr th:only-of-type {\n",
              "        vertical-align: middle;\n",
              "    }\n",
              "\n",
              "    .dataframe tbody tr th {\n",
              "        vertical-align: top;\n",
              "    }\n",
              "\n",
              "    .dataframe thead th {\n",
              "        text-align: right;\n",
              "    }\n",
              "</style>\n",
              "<table border=\"1\" class=\"dataframe\">\n",
              "  <thead>\n",
              "    <tr style=\"text-align: right;\">\n",
              "      <th></th>\n",
              "      <th>target</th>\n",
              "      <th>text</th>\n",
              "      <th>line_number</th>\n",
              "      <th>total_lines</th>\n",
              "    </tr>\n",
              "  </thead>\n",
              "  <tbody>\n",
              "    <tr>\n",
              "      <th>0</th>\n",
              "      <td>OBJECTIVE</td>\n",
              "      <td>to investigate the efficacy of @ weeks of dail...</td>\n",
              "      <td>0</td>\n",
              "      <td>11</td>\n",
              "    </tr>\n",
              "    <tr>\n",
              "      <th>1</th>\n",
              "      <td>METHODS</td>\n",
              "      <td>a total of @ patients with primary knee oa wer...</td>\n",
              "      <td>1</td>\n",
              "      <td>11</td>\n",
              "    </tr>\n",
              "    <tr>\n",
              "      <th>2</th>\n",
              "      <td>METHODS</td>\n",
              "      <td>outcome measures included pain reduction and i...</td>\n",
              "      <td>2</td>\n",
              "      <td>11</td>\n",
              "    </tr>\n",
              "    <tr>\n",
              "      <th>3</th>\n",
              "      <td>METHODS</td>\n",
              "      <td>pain was assessed using the visual analog pain...</td>\n",
              "      <td>3</td>\n",
              "      <td>11</td>\n",
              "    </tr>\n",
              "    <tr>\n",
              "      <th>4</th>\n",
              "      <td>METHODS</td>\n",
              "      <td>secondary outcome measures included the wester...</td>\n",
              "      <td>4</td>\n",
              "      <td>11</td>\n",
              "    </tr>\n",
              "  </tbody>\n",
              "</table>\n",
              "</div>\n",
              "      <button class=\"colab-df-convert\" onclick=\"convertToInteractive('df-a29708d4-e429-45ee-b26b-76963d8c104d')\"\n",
              "              title=\"Convert this dataframe to an interactive table.\"\n",
              "              style=\"display:none;\">\n",
              "        \n",
              "  <svg xmlns=\"http://www.w3.org/2000/svg\" height=\"24px\"viewBox=\"0 0 24 24\"\n",
              "       width=\"24px\">\n",
              "    <path d=\"M0 0h24v24H0V0z\" fill=\"none\"/>\n",
              "    <path d=\"M18.56 5.44l.94 2.06.94-2.06 2.06-.94-2.06-.94-.94-2.06-.94 2.06-2.06.94zm-11 1L8.5 8.5l.94-2.06 2.06-.94-2.06-.94L8.5 2.5l-.94 2.06-2.06.94zm10 10l.94 2.06.94-2.06 2.06-.94-2.06-.94-.94-2.06-.94 2.06-2.06.94z\"/><path d=\"M17.41 7.96l-1.37-1.37c-.4-.4-.92-.59-1.43-.59-.52 0-1.04.2-1.43.59L10.3 9.45l-7.72 7.72c-.78.78-.78 2.05 0 2.83L4 21.41c.39.39.9.59 1.41.59.51 0 1.02-.2 1.41-.59l7.78-7.78 2.81-2.81c.8-.78.8-2.07 0-2.86zM5.41 20L4 18.59l7.72-7.72 1.47 1.35L5.41 20z\"/>\n",
              "  </svg>\n",
              "      </button>\n",
              "      \n",
              "  <style>\n",
              "    .colab-df-container {\n",
              "      display:flex;\n",
              "      flex-wrap:wrap;\n",
              "      gap: 12px;\n",
              "    }\n",
              "\n",
              "    .colab-df-convert {\n",
              "      background-color: #E8F0FE;\n",
              "      border: none;\n",
              "      border-radius: 50%;\n",
              "      cursor: pointer;\n",
              "      display: none;\n",
              "      fill: #1967D2;\n",
              "      height: 32px;\n",
              "      padding: 0 0 0 0;\n",
              "      width: 32px;\n",
              "    }\n",
              "\n",
              "    .colab-df-convert:hover {\n",
              "      background-color: #E2EBFA;\n",
              "      box-shadow: 0px 1px 2px rgba(60, 64, 67, 0.3), 0px 1px 3px 1px rgba(60, 64, 67, 0.15);\n",
              "      fill: #174EA6;\n",
              "    }\n",
              "\n",
              "    [theme=dark] .colab-df-convert {\n",
              "      background-color: #3B4455;\n",
              "      fill: #D2E3FC;\n",
              "    }\n",
              "\n",
              "    [theme=dark] .colab-df-convert:hover {\n",
              "      background-color: #434B5C;\n",
              "      box-shadow: 0px 1px 3px 1px rgba(0, 0, 0, 0.15);\n",
              "      filter: drop-shadow(0px 1px 2px rgba(0, 0, 0, 0.3));\n",
              "      fill: #FFFFFF;\n",
              "    }\n",
              "  </style>\n",
              "\n",
              "      <script>\n",
              "        const buttonEl =\n",
              "          document.querySelector('#df-a29708d4-e429-45ee-b26b-76963d8c104d button.colab-df-convert');\n",
              "        buttonEl.style.display =\n",
              "          google.colab.kernel.accessAllowed ? 'block' : 'none';\n",
              "\n",
              "        async function convertToInteractive(key) {\n",
              "          const element = document.querySelector('#df-a29708d4-e429-45ee-b26b-76963d8c104d');\n",
              "          const dataTable =\n",
              "            await google.colab.kernel.invokeFunction('convertToInteractive',\n",
              "                                                     [key], {});\n",
              "          if (!dataTable) return;\n",
              "\n",
              "          const docLinkHtml = 'Like what you see? Visit the ' +\n",
              "            '<a target=\"_blank\" href=https://colab.research.google.com/notebooks/data_table.ipynb>data table notebook</a>'\n",
              "            + ' to learn more about interactive tables.';\n",
              "          element.innerHTML = '';\n",
              "          dataTable['output_type'] = 'display_data';\n",
              "          await google.colab.output.renderOutput(dataTable, element);\n",
              "          const docLink = document.createElement('div');\n",
              "          docLink.innerHTML = docLinkHtml;\n",
              "          element.appendChild(docLink);\n",
              "        }\n",
              "      </script>\n",
              "    </div>\n",
              "  </div>\n",
              "  "
            ]
          },
          "metadata": {},
          "execution_count": 93
        }
      ]
    },
    {
      "cell_type": "code",
      "source": [
        "train_df[\"line_number\"].value_counts()"
      ],
      "metadata": {
        "colab": {
          "base_uri": "https://localhost:8080/"
        },
        "id": "B0mHA3HiZoWf",
        "outputId": "6386917c-7a1d-4c7c-9472-2c11825bd6f4"
      },
      "execution_count": 94,
      "outputs": [
        {
          "output_type": "execute_result",
          "data": {
            "text/plain": [
              "0     15000\n",
              "1     15000\n",
              "2     15000\n",
              "3     15000\n",
              "4     14992\n",
              "5     14949\n",
              "6     14758\n",
              "7     14279\n",
              "8     13346\n",
              "9     11981\n",
              "10    10041\n",
              "11     7892\n",
              "12     5853\n",
              "13     4152\n",
              "14     2835\n",
              "15     1861\n",
              "16     1188\n",
              "17      751\n",
              "18      462\n",
              "19      286\n",
              "20      162\n",
              "21      101\n",
              "22       66\n",
              "23       33\n",
              "24       22\n",
              "25       14\n",
              "26        7\n",
              "27        4\n",
              "28        3\n",
              "29        1\n",
              "30        1\n",
              "Name: line_number, dtype: int64"
            ]
          },
          "metadata": {},
          "execution_count": 94
        }
      ]
    },
    {
      "cell_type": "code",
      "source": [
        "train_df[\"total_lines\"].plot.hist(bins=7);"
      ],
      "metadata": {
        "colab": {
          "base_uri": "https://localhost:8080/",
          "height": 265
        },
        "id": "azSCRzCUZwEs",
        "outputId": "ebc069fd-40b1-4604-a83f-a9a386c3d9f7"
      },
      "execution_count": 95,
      "outputs": [
        {
          "output_type": "display_data",
          "data": {
            "text/plain": [
              "<Figure size 432x288 with 1 Axes>"
            ],
            "image/png": "[encoded data removed]"
          },
          "metadata": {
            "needs_background": "light"
          }
        }
      ]
    },
    {
      "cell_type": "code",
      "source": [
        "np.percentile(train_df[\"total_lines\"],98)"
      ],
      "metadata": {
        "colab": {
          "base_uri": "https://localhost:8080/"
        },
        "id": "UUNVGKlhZ3T_",
        "outputId": "f30a0c6a-9dfb-49b3-86b8-c9fe53b833ce"
      },
      "execution_count": 96,
      "outputs": [
        {
          "output_type": "execute_result",
          "data": {
            "text/plain": [
              "20.0"
            ]
          },
          "metadata": {},
          "execution_count": 96
        }
      ]
    },
    {
      "cell_type": "code",
      "source": [
        "train_line_numbers_one_hot = tf.one_hot(train_df[\"line_number\"].to_numpy(), depth=15)\n",
        "val_line_numbers_one_hot = tf.one_hot(val_df[\"line_number\"].to_numpy(), depth=15)\n",
        "test_line_numbers_one_hot = tf.one_hot(test_df[\"line_number\"].to_numpy(), depth=15)"
      ],
      "metadata": {
        "id": "Q1h8blrAGSjn"
      },
      "execution_count": 97,
      "outputs": []
    },
    {
      "cell_type": "code",
      "source": [
        "train_total_lines_one_hot = tf.one_hot(train_df[\"total_lines\"].to_numpy(), depth=20)\n",
        "val_total_lines_one_hot = tf.one_hot(val_df[\"total_lines\"].to_numpy(), depth=20)\n",
        "test_total_lines_one_hot = tf.one_hot(test_df[\"total_lines\"].to_numpy(), depth=20)\n",
        "\n",
        "train_total_lines_one_hot[:15]"
      ],
      "metadata": {
        "id": "dvwI9o8GaPXv",
        "colab": {
          "base_uri": "https://localhost:8080/"
        },
        "outputId": "b0ce80a7-887c-4497-fb18-c0007392108e"
      },
      "execution_count": 98,
      "outputs": [
        {
          "output_type": "execute_result",
          "data": {
            "text/plain": [
              "<tf.Tensor: shape=(15, 20), dtype=float32, numpy=\n",
              "array([[0., 0., 0., 0., 0., 0., 0., 0., 0., 0., 0., 1., 0., 0., 0., 0.,\n",
              "        0., 0., 0., 0.],\n",
              "       [0., 0., 0., 0., 0., 0., 0., 0., 0., 0., 0., 1., 0., 0., 0., 0.,\n",
              "        0., 0., 0., 0.],\n",
              "       [0., 0., 0., 0., 0., 0., 0., 0., 0., 0., 0., 1., 0., 0., 0., 0.,\n",
              "        0., 0., 0., 0.],\n",
              "       [0., 0., 0., 0., 0., 0., 0., 0., 0., 0., 0., 1., 0., 0., 0., 0.,\n",
              "        0., 0., 0., 0.],\n",
              "       [0., 0., 0., 0., 0., 0., 0., 0., 0., 0., 0., 1., 0., 0., 0., 0.,\n",
              "        0., 0., 0., 0.],\n",
              "       [0., 0., 0., 0., 0., 0., 0., 0., 0., 0., 0., 1., 0., 0., 0., 0.,\n",
              "        0., 0., 0., 0.],\n",
              "       [0., 0., 0., 0., 0., 0., 0., 0., 0., 0., 0., 1., 0., 0., 0., 0.,\n",
              "        0., 0., 0., 0.],\n",
              "       [0., 0., 0., 0., 0., 0., 0., 0., 0., 0., 0., 1., 0., 0., 0., 0.,\n",
              "        0., 0., 0., 0.],\n",
              "       [0., 0., 0., 0., 0., 0., 0., 0., 0., 0., 0., 1., 0., 0., 0., 0.,\n",
              "        0., 0., 0., 0.],\n",
              "       [0., 0., 0., 0., 0., 0., 0., 0., 0., 0., 0., 1., 0., 0., 0., 0.,\n",
              "        0., 0., 0., 0.],\n",
              "       [0., 0., 0., 0., 0., 0., 0., 0., 0., 0., 0., 1., 0., 0., 0., 0.,\n",
              "        0., 0., 0., 0.],\n",
              "       [0., 0., 0., 0., 0., 0., 0., 0., 0., 0., 0., 1., 0., 0., 0., 0.,\n",
              "        0., 0., 0., 0.],\n",
              "       [0., 0., 0., 0., 0., 0., 0., 0., 0., 0., 1., 0., 0., 0., 0., 0.,\n",
              "        0., 0., 0., 0.],\n",
              "       [0., 0., 0., 0., 0., 0., 0., 0., 0., 0., 1., 0., 0., 0., 0., 0.,\n",
              "        0., 0., 0., 0.],\n",
              "       [0., 0., 0., 0., 0., 0., 0., 0., 0., 0., 1., 0., 0., 0., 0., 0.,\n",
              "        0., 0., 0., 0.]], dtype=float32)>"
            ]
          },
          "metadata": {},
          "execution_count": 98
        }
      ]
    },
    {
      "cell_type": "code",
      "source": [
        "# 1. Token inputs\n",
        "token_inputs = layers.Input(shape=[], dtype=\"string\", name=\"token_inputs\")\n",
        "token_embeddings = tf_hub_embedding_layer(token_inputs)\n",
        "token_outputs = layers.Dense(128, activation=\"selu\",kernel_initializer=\"lecun_normal\")(token_embeddings)\n",
        "token_model = tf.keras.Model(inputs=token_inputs,\n",
        "                             outputs=token_outputs)\n",
        "\n",
        "# 2. Char inputs\n",
        "char_inputs = layers.Input(shape=(1,), dtype=\"string\", name=\"char_inputs\")\n",
        "char_vectors = char_vectorizer(char_inputs)\n",
        "char_embeddings = char_embed(char_vectors)\n",
        "char_bi_lstm = layers.Bidirectional(layers.LSTM(32,activation=\"selu\",kernel_initializer=\"lecun_normal\"))(char_embeddings)\n",
        "char_model = tf.keras.Model(inputs=char_inputs,\n",
        "                            outputs=char_bi_lstm)\n",
        "\n",
        "# 3. Line numbers inputs\n",
        "line_number_inputs = layers.Input(shape=(15,), dtype=tf.int32, name=\"line_number_input\")\n",
        "x = layers.Dense(32, activation=\"selu\",kernel_initializer=\"lecun_normal\")(line_number_inputs)\n",
        "line_number_model = tf.keras.Model(inputs=line_number_inputs,\n",
        "                                   outputs=x)\n",
        "\n",
        "# 4. Total lines inputs\n",
        "total_lines_inputs = layers.Input(shape=(20,), dtype=tf.int32, name=\"total_lines_input\")\n",
        "y = layers.Dense(32, activation=\"selu\",kernel_initializer=\"lecun_normal\")(total_lines_inputs)\n",
        "total_line_model = tf.keras.Model(inputs=total_lines_inputs,\n",
        "                                  outputs=y)\n",
        "\n",
        "# 5. Combine token and char embeddings into a hybrid embedding\n",
        "combined_embeddings = layers.Concatenate(name=\"token_char_hybrid_embedding\")([token_model.output, \n",
        "                                                                              char_model.output])\n",
        "z = layers.Dense(256, activation=\"selu\",kernel_initializer=\"lecun_normal\")(combined_embeddings)\n",
        "z = layers.Dropout(0.5)(z)\n",
        "\n",
        "# 6. Combine positional embeddings with combined token and char embeddings into a tribrid embedding\n",
        "z = layers.Concatenate(name=\"token_char_positional_embedding\")([line_number_model.output,\n",
        "                                                                total_line_model.output,\n",
        "                                                                z])\n",
        "\n",
        "# 7. Create output layer\n",
        "output_layer = layers.Dense(5, activation=\"softmax\", name=\"output_layer\")(z)\n",
        "\n",
        "# 8. Put together model\n",
        "model_7 = tf.keras.Model(inputs=[line_number_model.input,\n",
        "                                 total_line_model.input,\n",
        "                                 token_model.input, \n",
        "                                 char_model.input],\n",
        "                                 outputs=output_layer)"
      ],
      "metadata": {
        "id": "NLazGIHSbSgF",
        "colab": {
          "base_uri": "https://localhost:8080/"
        },
        "outputId": "4eb454dd-67d1-4678-b099-89cf6fd0fd26"
      },
      "execution_count": 99,
      "outputs": [
        {
          "output_type": "stream",
          "name": "stderr",
          "text": [
            "WARNING:tensorflow:Layer lstm_4 will not use cuDNN kernels since it doesn't meet the criteria. It will use a generic GPU kernel as fallback when running on GPU.\n",
            "WARNING:tensorflow:Layer lstm_4 will not use cuDNN kernels since it doesn't meet the criteria. It will use a generic GPU kernel as fallback when running on GPU.\n",
            "WARNING:tensorflow:Layer lstm_4 will not use cuDNN kernels since it doesn't meet the criteria. It will use a generic GPU kernel as fallback when running on GPU.\n"
          ]
        }
      ]
    },
    {
      "cell_type": "code",
      "source": [
        "model_7.summary()"
      ],
      "metadata": {
        "colab": {
          "base_uri": "https://localhost:8080/"
        },
        "id": "NlyzsIJtE38t",
        "outputId": "a6d9561e-9502-43b8-f61d-dfbfc2f5ecd1"
      },
      "execution_count": 100,
      "outputs": [
        {
          "output_type": "stream",
          "name": "stdout",
          "text": [
            "Model: \"model_7\"\n",
            "__________________________________________________________________________________________________\n",
            " Layer (type)                   Output Shape         Param #     Connected to                     \n",
            "==================================================================================================\n",
            " char_inputs (InputLayer)       [(None, 1)]          0           []                               \n",
            "                                                                                                  \n",
            " token_inputs (InputLayer)      [(None,)]            0           []                               \n",
            "                                                                                                  \n",
            " char_vectorizer (TextVectoriza  (None, 290)         0           ['char_inputs[0][0]']            \n",
            " tion)                                                                                            \n",
            "                                                                                                  \n",
            " universal_sentence_encoder (Ke  (None, 512)         256797824   ['token_inputs[0][0]']           \n",
            " rasLayer)                                                                                        \n",
            "                                                                                                  \n",
            " char_embed (Embedding)         (None, 290, 25)      1750        ['char_vectorizer[1][0]']        \n",
            "                                                                                                  \n",
            " dense_8 (Dense)                (None, 128)          65664       ['universal_sentence_encoder[1][0\n",
            "                                                                 ]']                              \n",
            "                                                                                                  \n",
            " bidirectional_2 (Bidirectional  (None, 64)          14848       ['char_embed[1][0]']             \n",
            " )                                                                                                \n",
            "                                                                                                  \n",
            " token_char_hybrid_embedding (C  (None, 192)         0           ['dense_8[0][0]',                \n",
            " oncatenate)                                                      'bidirectional_2[0][0]']        \n",
            "                                                                                                  \n",
            " line_number_input (InputLayer)  [(None, 15)]        0           []                               \n",
            "                                                                                                  \n",
            " total_lines_input (InputLayer)  [(None, 20)]        0           []                               \n",
            "                                                                                                  \n",
            " dense_11 (Dense)               (None, 256)          49408       ['token_char_hybrid_embedding[0][\n",
            "                                                                 0]']                             \n",
            "                                                                                                  \n",
            " dense_9 (Dense)                (None, 32)           512         ['line_number_input[0][0]']      \n",
            "                                                                                                  \n",
            " dense_10 (Dense)               (None, 32)           672         ['total_lines_input[0][0]']      \n",
            "                                                                                                  \n",
            " dropout_2 (Dropout)            (None, 256)          0           ['dense_11[0][0]']               \n",
            "                                                                                                  \n",
            " token_char_positional_embeddin  (None, 320)         0           ['dense_9[0][0]',                \n",
            " g (Concatenate)                                                  'dense_10[0][0]',               \n",
            "                                                                  'dropout_2[0][0]']              \n",
            "                                                                                                  \n",
            " output_layer (Dense)           (None, 5)            1605        ['token_char_positional_embedding\n",
            "                                                                 [0][0]']                         \n",
            "                                                                                                  \n",
            "==================================================================================================\n",
            "Total params: 256,932,283\n",
            "Trainable params: 134,459\n",
            "Non-trainable params: 256,797,824\n",
            "__________________________________________________________________________________________________\n"
          ]
        }
      ]
    },
    {
      "cell_type": "code",
      "source": [
        "from tensorflow.keras.utils import plot_model\n",
        "plot_model(model_7)"
      ],
      "metadata": {
        "id": "CLlS_N5Bdr-U",
        "colab": {
          "base_uri": "https://localhost:8080/",
          "height": 856
        },
        "outputId": "ba7643fa-2c41-4295-cd7d-34375301d66a"
      },
      "execution_count": 101,
      "outputs": [
        {
          "output_type": "execute_result",
          "data": {
            "image/png": "[encoded data removed]",
            "text/plain": [
              "<IPython.core.display.Image object>"
            ]
          },
          "metadata": {},
          "execution_count": 101
        }
      ]
    },
    {
      "cell_type": "code",
      "source": [
        "model_7.compile(loss = tf.keras.losses.CategoricalCrossentropy(label_smoothing=0.2),\n",
        "                optimizer = tf.keras.optimizers.Nadam(),\n",
        "                metrics= [\"accuracy\"])"
      ],
      "metadata": {
        "id": "3cWtp49VElpa"
      },
      "execution_count": 102,
      "outputs": []
    },
    {
      "cell_type": "code",
      "source": [
        "# Create training and validation datasets (all four kinds of inputs)\n",
        "train_pos_char_token_data = tf.data.Dataset.from_tensor_slices((train_line_numbers_one_hot, # line numbers\n",
        "                                                                train_total_lines_one_hot, # total lines\n",
        "                                                                train_sentences, # train tokens\n",
        "                                                                train_chars)) # train chars\n",
        "train_pos_char_token_labels = tf.data.Dataset.from_tensor_slices(train_labels_one_hot) # train labels\n",
        "train_pos_char_token_dataset = tf.data.Dataset.zip((train_pos_char_token_data, train_pos_char_token_labels)) # combine data and labels\n",
        "train_pos_char_token_dataset = train_pos_char_token_dataset.batch(32).prefetch(tf.data.AUTOTUNE) # turn into batches and prefetch appropriately\n",
        "\n",
        "# Validation dataset\n",
        "val_pos_char_token_data = tf.data.Dataset.from_tensor_slices((val_line_numbers_one_hot,\n",
        "                                                              val_total_lines_one_hot,\n",
        "                                                              val_sentences,\n",
        "                                                              val_chars))\n",
        "val_pos_char_token_labels = tf.data.Dataset.from_tensor_slices(val_labels_one_hot)\n",
        "val_pos_char_token_dataset = tf.data.Dataset.zip((val_pos_char_token_data, val_pos_char_token_labels))\n",
        "val_pos_char_token_dataset = val_pos_char_token_dataset.batch(32).prefetch(tf.data.AUTOTUNE) # turn into batches and prefetch appropriately\n",
        "\n",
        "# Check input shapes\n",
        "train_pos_char_token_dataset, val_pos_char_token_dataset"
      ],
      "metadata": {
        "colab": {
          "base_uri": "https://localhost:8080/"
        },
        "id": "NEiJvp-6F6JB",
        "outputId": "dbcda7ec-373e-453e-efb5-fc9eac10c923"
      },
      "execution_count": 103,
      "outputs": [
        {
          "output_type": "execute_result",
          "data": {
            "text/plain": [
              "(<PrefetchDataset element_spec=((TensorSpec(shape=(None, 15), dtype=tf.float32, name=None), TensorSpec(shape=(None, 20), dtype=tf.float32, name=None), TensorSpec(shape=(None,), dtype=tf.string, name=None), TensorSpec(shape=(None,), dtype=tf.string, name=None)), TensorSpec(shape=(None, 5), dtype=tf.float64, name=None))>,\n",
              " <PrefetchDataset element_spec=((TensorSpec(shape=(None, 15), dtype=tf.float32, name=None), TensorSpec(shape=(None, 20), dtype=tf.float32, name=None), TensorSpec(shape=(None,), dtype=tf.string, name=None), TensorSpec(shape=(None,), dtype=tf.string, name=None)), TensorSpec(shape=(None, 5), dtype=tf.float64, name=None))>)"
            ]
          },
          "metadata": {},
          "execution_count": 103
        }
      ]
    },
    {
      "cell_type": "code",
      "source": [
        "model_7_hist = model_7.fit(train_pos_char_token_dataset,\n",
        "                           steps_per_epoch=int(0.02 * len(train_pos_char_token_dataset)),\n",
        "                           epochs=42,\n",
        "                           validation_data=val_pos_char_token_dataset,\n",
        "                           validation_steps=int(0.02 * len(val_pos_char_token_dataset)),\n",
        "                           callbacks=[tf.keras.callbacks.EarlyStopping(monitor=\"val_loss\", patience=5, restore_best_weights=True),\n",
        "                                      tf.keras.callbacks.ReduceLROnPlateau(monitor=\"val_loss\", patience=3, verbose=1)])"
      ],
      "metadata": {
        "colab": {
          "base_uri": "https://localhost:8080/"
        },
        "id": "Y-5H3cbvFxaC",
        "outputId": "335718cc-cdbb-4456-eaa2-619e98863222"
      },
      "execution_count": 104,
      "outputs": [
        {
          "output_type": "stream",
          "name": "stdout",
          "text": [
            "Epoch 1/42\n",
            "112/112 [==============================] - 109s 943ms/step - loss: 1.2549 - accuracy: 0.6021 - val_loss: 1.1493 - val_accuracy: 0.6632 - lr: 0.0010\n",
            "Epoch 2/42\n",
            "112/112 [==============================] - 102s 913ms/step - loss: 1.0877 - accuracy: 0.7341 - val_loss: 1.0668 - val_accuracy: 0.7257 - lr: 0.0010\n",
            "Epoch 3/42\n",
            "112/112 [==============================] - 100s 896ms/step - loss: 1.0440 - accuracy: 0.7586 - val_loss: 1.0200 - val_accuracy: 0.7726 - lr: 0.0010\n",
            "Epoch 4/42\n",
            "112/112 [==============================] - 100s 896ms/step - loss: 1.0031 - accuracy: 0.7930 - val_loss: 1.0066 - val_accuracy: 0.7778 - lr: 0.0010\n",
            "Epoch 5/42\n",
            "112/112 [==============================] - 106s 946ms/step - loss: 1.0064 - accuracy: 0.7821 - val_loss: 1.0046 - val_accuracy: 0.7760 - lr: 0.0010\n",
            "Epoch 6/42\n",
            "112/112 [==============================] - 102s 914ms/step - loss: 0.9921 - accuracy: 0.7966 - val_loss: 0.9906 - val_accuracy: 0.7917 - lr: 0.0010\n",
            "Epoch 7/42\n",
            "112/112 [==============================] - 99s 889ms/step - loss: 0.9877 - accuracy: 0.8030 - val_loss: 0.9798 - val_accuracy: 0.8073 - lr: 0.0010\n",
            "Epoch 8/42\n",
            "112/112 [==============================] - 99s 887ms/step - loss: 0.9818 - accuracy: 0.8125 - val_loss: 0.9869 - val_accuracy: 0.8038 - lr: 0.0010\n",
            "Epoch 9/42\n",
            "112/112 [==============================] - 101s 902ms/step - loss: 0.9765 - accuracy: 0.8086 - val_loss: 0.9772 - val_accuracy: 0.8021 - lr: 0.0010\n",
            "Epoch 10/42\n",
            "112/112 [==============================] - 98s 874ms/step - loss: 0.9875 - accuracy: 0.7972 - val_loss: 0.9860 - val_accuracy: 0.7812 - lr: 0.0010\n",
            "Epoch 11/42\n",
            "112/112 [==============================] - 105s 939ms/step - loss: 0.9791 - accuracy: 0.8052 - val_loss: 0.9748 - val_accuracy: 0.7934 - lr: 0.0010\n",
            "Epoch 12/42\n",
            "112/112 [==============================] - 99s 887ms/step - loss: 0.9772 - accuracy: 0.8200 - val_loss: 0.9707 - val_accuracy: 0.8194 - lr: 0.0010\n",
            "Epoch 13/42\n",
            "112/112 [==============================] - 101s 899ms/step - loss: 0.9676 - accuracy: 0.8108 - val_loss: 0.9603 - val_accuracy: 0.8247 - lr: 0.0010\n",
            "Epoch 14/42\n",
            "112/112 [==============================] - 99s 884ms/step - loss: 0.9828 - accuracy: 0.8027 - val_loss: 0.9589 - val_accuracy: 0.8194 - lr: 0.0010\n",
            "Epoch 15/42\n",
            "112/112 [==============================] - 100s 896ms/step - loss: 0.9687 - accuracy: 0.8136 - val_loss: 0.9790 - val_accuracy: 0.8090 - lr: 0.0010\n",
            "Epoch 16/42\n",
            "112/112 [==============================] - 98s 871ms/step - loss: 0.9708 - accuracy: 0.8189 - val_loss: 0.9658 - val_accuracy: 0.8212 - lr: 0.0010\n",
            "Epoch 17/42\n",
            "112/112 [==============================] - ETA: 0s - loss: 0.9645 - accuracy: 0.8228\n",
            "Epoch 17: ReduceLROnPlateau reducing learning rate to 0.00010000000474974513.\n",
            "112/112 [==============================] - 99s 888ms/step - loss: 0.9645 - accuracy: 0.8228 - val_loss: 0.9610 - val_accuracy: 0.8281 - lr: 0.0010\n",
            "Epoch 18/42\n",
            "112/112 [==============================] - 101s 906ms/step - loss: 0.9608 - accuracy: 0.8211 - val_loss: 0.9579 - val_accuracy: 0.8403 - lr: 1.0000e-04\n",
            "Epoch 19/42\n",
            "112/112 [==============================] - 98s 878ms/step - loss: 0.9642 - accuracy: 0.8228 - val_loss: 0.9592 - val_accuracy: 0.8316 - lr: 1.0000e-04\n",
            "Epoch 20/42\n",
            "112/112 [==============================] - 101s 901ms/step - loss: 0.9679 - accuracy: 0.8231 - val_loss: 0.9549 - val_accuracy: 0.8420 - lr: 1.0000e-04\n",
            "Epoch 21/42\n",
            "112/112 [==============================] - 98s 878ms/step - loss: 0.9545 - accuracy: 0.8248 - val_loss: 0.9574 - val_accuracy: 0.8333 - lr: 1.0000e-04\n",
            "Epoch 22/42\n",
            "112/112 [==============================] - 100s 897ms/step - loss: 0.9517 - accuracy: 0.8309 - val_loss: 0.9572 - val_accuracy: 0.8333 - lr: 1.0000e-04\n",
            "Epoch 23/42\n",
            "112/112 [==============================] - 99s 880ms/step - loss: 0.9650 - accuracy: 0.8178 - val_loss: 0.9545 - val_accuracy: 0.8316 - lr: 1.0000e-04\n",
            "Epoch 24/42\n",
            "112/112 [==============================] - 100s 896ms/step - loss: 0.9619 - accuracy: 0.8287 - val_loss: 0.9538 - val_accuracy: 0.8368 - lr: 1.0000e-04\n",
            "Epoch 25/42\n",
            "112/112 [==============================] - 100s 893ms/step - loss: 0.9639 - accuracy: 0.8259 - val_loss: 0.9506 - val_accuracy: 0.8368 - lr: 1.0000e-04\n",
            "Epoch 26/42\n",
            "112/112 [==============================] - 97s 869ms/step - loss: 0.9610 - accuracy: 0.8234 - val_loss: 0.9518 - val_accuracy: 0.8385 - lr: 1.0000e-04\n",
            "Epoch 27/42\n",
            "112/112 [==============================] - 100s 891ms/step - loss: 0.9651 - accuracy: 0.8122 - val_loss: 0.9528 - val_accuracy: 0.8351 - lr: 1.0000e-04\n",
            "Epoch 28/42\n",
            "112/112 [==============================] - ETA: 0s - loss: 0.9617 - accuracy: 0.8211\n",
            "Epoch 28: ReduceLROnPlateau reducing learning rate to 1.0000000474974514e-05.\n",
            "112/112 [==============================] - 99s 881ms/step - loss: 0.9617 - accuracy: 0.8211 - val_loss: 0.9535 - val_accuracy: 0.8281 - lr: 1.0000e-04\n",
            "Epoch 29/42\n",
            "112/112 [==============================] - 100s 896ms/step - loss: 0.9640 - accuracy: 0.8167 - val_loss: 0.9532 - val_accuracy: 0.8299 - lr: 1.0000e-05\n",
            "Epoch 30/42\n",
            "112/112 [==============================] - 97s 869ms/step - loss: 0.9691 - accuracy: 0.8178 - val_loss: 0.9531 - val_accuracy: 0.8281 - lr: 1.0000e-05\n"
          ]
        }
      ]
    },
    {
      "cell_type": "code",
      "source": [
        "model_7.evaluate(val_pos_char_token_dataset)"
      ],
      "metadata": {
        "id": "KF1SZgKJHIfD",
        "colab": {
          "base_uri": "https://localhost:8080/"
        },
        "outputId": "1f14175c-bb93-4b90-fe9e-4470a91a93e7"
      },
      "execution_count": 105,
      "outputs": [
        {
          "output_type": "stream",
          "name": "stdout",
          "text": [
            "945/945 [==============================] - 77s 82ms/step - loss: 0.9492 - accuracy: 0.8300\n"
          ]
        },
        {
          "output_type": "execute_result",
          "data": {
            "text/plain": [
              "[0.9491576552391052, 0.8300344347953796]"
            ]
          },
          "metadata": {},
          "execution_count": 105
        }
      ]
    },
    {
      "cell_type": "code",
      "source": [
        "model_7_pred_probs = model_7.predict(val_pos_char_token_dataset, verbose=1)\n",
        "model_7_pred_probs"
      ],
      "metadata": {
        "id": "vP5oDVjlHbb2",
        "colab": {
          "base_uri": "https://localhost:8080/"
        },
        "outputId": "dece3bd0-c978-4ac9-a358-e9793bf8907a"
      },
      "execution_count": 107,
      "outputs": [
        {
          "output_type": "stream",
          "name": "stdout",
          "text": [
            "945/945 [==============================] - 76s 80ms/step\n"
          ]
        },
        {
          "output_type": "execute_result",
          "data": {
            "text/plain": [
              "array([[0.61607313, 0.08884989, 0.01332284, 0.25141773, 0.03033638],\n",
              "       [0.64882547, 0.09098068, 0.05169736, 0.19778635, 0.01071018],\n",
              "       [0.34387842, 0.11708219, 0.08148274, 0.3805589 , 0.07699782],\n",
              "       ...,\n",
              "       [0.05173023, 0.09519336, 0.03360856, 0.0294518 , 0.790016  ],\n",
              "       [0.01985978, 0.26443297, 0.05534318, 0.01533729, 0.64502674],\n",
              "       [0.1830888 , 0.524366  , 0.16929553, 0.02589932, 0.09735028]],\n",
              "      dtype=float32)"
            ]
          },
          "metadata": {},
          "execution_count": 107
        }
      ]
    },
    {
      "cell_type": "code",
      "source": [
        "model_7_preds = np.argmax(model_7_pred_probs, axis=1)\n",
        "model_7_preds"
      ],
      "metadata": {
        "id": "hCdEAI4_He7n",
        "colab": {
          "base_uri": "https://localhost:8080/"
        },
        "outputId": "b9cc67e1-46ca-4ece-8162-2b9f45b5c42c"
      },
      "execution_count": 108,
      "outputs": [
        {
          "output_type": "execute_result",
          "data": {
            "text/plain": [
              "array([0, 0, 3, ..., 4, 4, 1])"
            ]
          },
          "metadata": {},
          "execution_count": 108
        }
      ]
    },
    {
      "cell_type": "code",
      "source": [
        "model_7_results = calculate_results(y_true=val_labels_encoded,\n",
        "                                    y_pred=model_7_preds)\n",
        "model_7_results"
      ],
      "metadata": {
        "id": "T-Dz3th8HtNe",
        "colab": {
          "base_uri": "https://localhost:8080/"
        },
        "outputId": "cc684ac6-f18e-4849-f1a6-ca19806f81a9"
      },
      "execution_count": 109,
      "outputs": [
        {
          "output_type": "execute_result",
          "data": {
            "text/plain": [
              "{'accuracy': 83.00344234079174,\n",
              " 'precision': 0.8296631062319115,\n",
              " 'recall': 0.8300344234079173,\n",
              " 'f1': 0.8274868690260494}"
            ]
          },
          "metadata": {},
          "execution_count": 109
        }
      ]
    },
    {
      "cell_type": "code",
      "source": [
        "### plot the result \n",
        "results_df = pd.DataFrame({\"model_1\": model_1_result,\n",
        "                           \"model_2\": model_2_results,\n",
        "                           \"model_3\": model_3_results,\n",
        "                           \"model_4\": model_4_results,\n",
        "                           \"model_5\": model_5_results,\n",
        "                           \"model_6\": model_6_results,\n",
        "                           \"model_7\": model_7_results})\n",
        "results_df_transposed = results_df.transpose()\n",
        "results_df_transposed"
      ],
      "metadata": {
        "id": "9Ft-0mx-Hy9d",
        "colab": {
          "base_uri": "https://localhost:8080/",
          "height": 269
        },
        "outputId": "b127869e-22bb-4112-86f9-fd34e5fd8b84"
      },
      "execution_count": 110,
      "outputs": [
        {
          "output_type": "execute_result",
          "data": {
            "text/plain": [
              "          accuracy  precision    recall        f1\n",
              "model_1  79.717936   0.797259  0.797179  0.793941\n",
              "model_2  72.636469   0.722565  0.726365  0.721032\n",
              "model_3  81.241082   0.821708  0.812411  0.814165\n",
              "model_4  73.904098   0.739944  0.739041  0.733770\n",
              "model_5  79.505558   0.793485  0.795056  0.793961\n",
              "model_6  33.227145   0.311589  0.332271  0.312817\n",
              "model_7  83.003442   0.829663  0.830034  0.827487"
            ],
            "text/html": [
              "\n",
              "  <div id=\"df-4c27e58a-d867-46f3-b4f9-52ebb1a60897\">\n",
              "    <div class=\"colab-df-container\">\n",
              "      <div>\n",
              "<style scoped>\n",
              "    .dataframe tbody tr th:only-of-type {\n",
              "        vertical-align: middle;\n",
              "    }\n",
              "\n",
              "    .dataframe tbody tr th {\n",
              "        vertical-align: top;\n",
              "    }\n",
              "\n",
              "    .dataframe thead th {\n",
              "        text-align: right;\n",
              "    }\n",
              "</style>\n",
              "<table border=\"1\" class=\"dataframe\">\n",
              "  <thead>\n",
              "    <tr style=\"text-align: right;\">\n",
              "      <th></th>\n",
              "      <th>accuracy</th>\n",
              "      <th>precision</th>\n",
              "      <th>recall</th>\n",
              "      <th>f1</th>\n",
              "    </tr>\n",
              "  </thead>\n",
              "  <tbody>\n",
              "    <tr>\n",
              "      <th>model_1</th>\n",
              "      <td>79.717936</td>\n",
              "      <td>0.797259</td>\n",
              "      <td>0.797179</td>\n",
              "      <td>0.793941</td>\n",
              "    </tr>\n",
              "    <tr>\n",
              "      <th>model_2</th>\n",
              "      <td>72.636469</td>\n",
              "      <td>0.722565</td>\n",
              "      <td>0.726365</td>\n",
              "      <td>0.721032</td>\n",
              "    </tr>\n",
              "    <tr>\n",
              "      <th>model_3</th>\n",
              "      <td>81.241082</td>\n",
              "      <td>0.821708</td>\n",
              "      <td>0.812411</td>\n",
              "      <td>0.814165</td>\n",
              "    </tr>\n",
              "    <tr>\n",
              "      <th>model_4</th>\n",
              "      <td>73.904098</td>\n",
              "      <td>0.739944</td>\n",
              "      <td>0.739041</td>\n",
              "      <td>0.733770</td>\n",
              "    </tr>\n",
              "    <tr>\n",
              "      <th>model_5</th>\n",
              "      <td>79.505558</td>\n",
              "      <td>0.793485</td>\n",
              "      <td>0.795056</td>\n",
              "      <td>0.793961</td>\n",
              "    </tr>\n",
              "    <tr>\n",
              "      <th>model_6</th>\n",
              "      <td>33.227145</td>\n",
              "      <td>0.311589</td>\n",
              "      <td>0.332271</td>\n",
              "      <td>0.312817</td>\n",
              "    </tr>\n",
              "    <tr>\n",
              "      <th>model_7</th>\n",
              "      <td>83.003442</td>\n",
              "      <td>0.829663</td>\n",
              "      <td>0.830034</td>\n",
              "      <td>0.827487</td>\n",
              "    </tr>\n",
              "  </tbody>\n",
              "</table>\n",
              "</div>\n",
              "      <button class=\"colab-df-convert\" onclick=\"convertToInteractive('df-4c27e58a-d867-46f3-b4f9-52ebb1a60897')\"\n",
              "              title=\"Convert this dataframe to an interactive table.\"\n",
              "              style=\"display:none;\">\n",
              "        \n",
              "  <svg xmlns=\"http://www.w3.org/2000/svg\" height=\"24px\"viewBox=\"0 0 24 24\"\n",
              "       width=\"24px\">\n",
              "    <path d=\"M0 0h24v24H0V0z\" fill=\"none\"/>\n",
              "    <path d=\"M18.56 5.44l.94 2.06.94-2.06 2.06-.94-2.06-.94-.94-2.06-.94 2.06-2.06.94zm-11 1L8.5 8.5l.94-2.06 2.06-.94-2.06-.94L8.5 2.5l-.94 2.06-2.06.94zm10 10l.94 2.06.94-2.06 2.06-.94-2.06-.94-.94-2.06-.94 2.06-2.06.94z\"/><path d=\"M17.41 7.96l-1.37-1.37c-.4-.4-.92-.59-1.43-.59-.52 0-1.04.2-1.43.59L10.3 9.45l-7.72 7.72c-.78.78-.78 2.05 0 2.83L4 21.41c.39.39.9.59 1.41.59.51 0 1.02-.2 1.41-.59l7.78-7.78 2.81-2.81c.8-.78.8-2.07 0-2.86zM5.41 20L4 18.59l7.72-7.72 1.47 1.35L5.41 20z\"/>\n",
              "  </svg>\n",
              "      </button>\n",
              "      \n",
              "  <style>\n",
              "    .colab-df-container {\n",
              "      display:flex;\n",
              "      flex-wrap:wrap;\n",
              "      gap: 12px;\n",
              "    }\n",
              "\n",
              "    .colab-df-convert {\n",
              "      background-color: #E8F0FE;\n",
              "      border: none;\n",
              "      border-radius: 50%;\n",
              "      cursor: pointer;\n",
              "      display: none;\n",
              "      fill: #1967D2;\n",
              "      height: 32px;\n",
              "      padding: 0 0 0 0;\n",
              "      width: 32px;\n",
              "    }\n",
              "\n",
              "    .colab-df-convert:hover {\n",
              "      background-color: #E2EBFA;\n",
              "      box-shadow: 0px 1px 2px rgba(60, 64, 67, 0.3), 0px 1px 3px 1px rgba(60, 64, 67, 0.15);\n",
              "      fill: #174EA6;\n",
              "    }\n",
              "\n",
              "    [theme=dark] .colab-df-convert {\n",
              "      background-color: #3B4455;\n",
              "      fill: #D2E3FC;\n",
              "    }\n",
              "\n",
              "    [theme=dark] .colab-df-convert:hover {\n",
              "      background-color: #434B5C;\n",
              "      box-shadow: 0px 1px 3px 1px rgba(0, 0, 0, 0.15);\n",
              "      filter: drop-shadow(0px 1px 2px rgba(0, 0, 0, 0.3));\n",
              "      fill: #FFFFFF;\n",
              "    }\n",
              "  </style>\n",
              "\n",
              "      <script>\n",
              "        const buttonEl =\n",
              "          document.querySelector('#df-4c27e58a-d867-46f3-b4f9-52ebb1a60897 button.colab-df-convert');\n",
              "        buttonEl.style.display =\n",
              "          google.colab.kernel.accessAllowed ? 'block' : 'none';\n",
              "\n",
              "        async function convertToInteractive(key) {\n",
              "          const element = document.querySelector('#df-4c27e58a-d867-46f3-b4f9-52ebb1a60897');\n",
              "          const dataTable =\n",
              "            await google.colab.kernel.invokeFunction('convertToInteractive',\n",
              "                                                     [key], {});\n",
              "          if (!dataTable) return;\n",
              "\n",
              "          const docLinkHtml = 'Like what you see? Visit the ' +\n",
              "            '<a target=\"_blank\" href=https://colab.research.google.com/notebooks/data_table.ipynb>data table notebook</a>'\n",
              "            + ' to learn more about interactive tables.';\n",
              "          element.innerHTML = '';\n",
              "          dataTable['output_type'] = 'display_data';\n",
              "          await google.colab.output.renderOutput(dataTable, element);\n",
              "          const docLink = document.createElement('div');\n",
              "          docLink.innerHTML = docLinkHtml;\n",
              "          element.appendChild(docLink);\n",
              "        }\n",
              "      </script>\n",
              "    </div>\n",
              "  </div>\n",
              "  "
            ]
          },
          "metadata": {},
          "execution_count": 110
        }
      ]
    },
    {
      "cell_type": "code",
      "source": [
        "test = results_df_transposed\n",
        "test[\"accuracy\"] = results_df_transposed[\"accuracy\"]/100\n",
        "test.plot(kind=\"bar\", figsize=(10,7)).legend(bbox_to_anchor=(1.0,1.0));"
      ],
      "metadata": {
        "id": "jug9ekw2fl2N",
        "colab": {
          "base_uri": "https://localhost:8080/",
          "height": 461
        },
        "outputId": "230f973a-23dd-4750-ce6c-0b403ed21900"
      },
      "execution_count": 111,
      "outputs": [
        {
          "output_type": "display_data",
          "data": {
            "text/plain": [
              "<Figure size 720x504 with 1 Axes>"
            ],
            "image/png": "[encoded data removed]"
          },
          "metadata": {
            "needs_background": "light"
          }
        }
      ]
    },
    {
      "cell_type": "code",
      "source": [
        "test.sort_values(\"f1\", ascending=False).plot(kind=\"bar\",figsize=(10,7));"
      ],
      "metadata": {
        "id": "-rfIai-SoMFT",
        "colab": {
          "base_uri": "https://localhost:8080/",
          "height": 461
        },
        "outputId": "7bd21ceb-b43a-4aae-ac17-e1ec3eea44ee"
      },
      "execution_count": 112,
      "outputs": [
        {
          "output_type": "display_data",
          "data": {
            "text/plain": [
              "<Figure size 720x504 with 1 Axes>"
            ],
            "image/png": "[encoded data removed]"
          },
          "metadata": {
            "needs_background": "light"
          }
        }
      ]
    },
    {
      "cell_type": "code",
      "source": [],
      "metadata": {
        "id": "jpQa0Ph8hsxc"
      },
      "execution_count": null,
      "outputs": []
    }
  ]
}